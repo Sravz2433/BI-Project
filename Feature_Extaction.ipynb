{
 "cells": [
  {
   "cell_type": "code",
   "execution_count": 21,
   "id": "46ddd886",
   "metadata": {},
   "outputs": [],
   "source": [
    "import pandas as pd\n",
    "\n",
    "file = 'data/prep_clinvar_result.csv'\n",
    "\n",
    "df= pd.read_csv(file)"
   ]
  },
  {
   "cell_type": "code",
   "execution_count": 22,
   "id": "682c4f52",
   "metadata": {},
   "outputs": [
    {
     "name": "stdout",
     "output_type": "stream",
     "text": [
      "Index(['Name', 'Gene(s)', 'Protein change', 'Condition(s)', 'Accession',\n",
      "       'GRCh37Chromosome', 'GRCh37Location', 'GRCh38Chromosome',\n",
      "       'GRCh38Location', 'VariationID', 'AlleleID(s)', 'dbSNP ID',\n",
      "       'Canonical SPDI', 'Variant type', 'Molecular consequence',\n",
      "       'Germline classification', 'Germline date last evaluated',\n",
      "       'Germline review status', 'Somatic clinical impact',\n",
      "       'Somatic clinical impact date last evaluated',\n",
      "       'Somatic clinical impact review status', 'Oncogenicity classification',\n",
      "       'Oncogenicity date last evaluated', 'Oncogenicity review status',\n",
      "       'Unnamed: 24', 'Sequence_ID', 'position', 'Deleted_Sequence',\n",
      "       'Inserted_Sequence', 'sequence_window', 'mutated_sequence',\n",
      "       'prev_position_allele', 'next_position_allele', 'aligned_ref',\n",
      "       'aligned_alt', 'alignment_score', 'mc_synonymous_variant',\n",
      "       'mc_3_prime_UTR_variant', 'mc_5_prime_UTR_variant',\n",
      "       'mc_splice_donor_variant', 'mc_splice_acceptor_variant', 'mc_nonsense',\n",
      "       'mc_intron_variant', 'mc_missense_variant', 'mc_stop_lost',\n",
      "       'splice_distance', 'mutated_sequence_fixed', 'label'],\n",
      "      dtype='object')\n"
     ]
    }
   ],
   "source": [
    "print( df.columns)"
   ]
  },
  {
   "cell_type": "code",
   "execution_count": 23,
   "id": "2788540a",
   "metadata": {},
   "outputs": [
    {
     "data": {
      "text/plain": [
       "Name                                            object\n",
       "Gene(s)                                         object\n",
       "Protein change                                  object\n",
       "Condition(s)                                    object\n",
       "Accession                                       object\n",
       "GRCh37Chromosome                                object\n",
       "GRCh37Location                                  object\n",
       "GRCh38Chromosome                                object\n",
       "GRCh38Location                                  object\n",
       "VariationID                                      int64\n",
       "AlleleID(s)                                      int64\n",
       "dbSNP ID                                        object\n",
       "Canonical SPDI                                  object\n",
       "Variant type                                    object\n",
       "Molecular consequence                           object\n",
       "Germline classification                         object\n",
       "Germline date last evaluated                    object\n",
       "Germline review status                          object\n",
       "Somatic clinical impact                        float64\n",
       "Somatic clinical impact date last evaluated    float64\n",
       "Somatic clinical impact review status          float64\n",
       "Oncogenicity classification                    float64\n",
       "Oncogenicity date last evaluated               float64\n",
       "Oncogenicity review status                     float64\n",
       "Unnamed: 24                                    float64\n",
       "Sequence_ID                                     object\n",
       "position                                         int64\n",
       "Deleted_Sequence                                object\n",
       "Inserted_Sequence                               object\n",
       "sequence_window                                 object\n",
       "mutated_sequence                                object\n",
       "prev_position_allele                            object\n",
       "next_position_allele                            object\n",
       "aligned_ref                                     object\n",
       "aligned_alt                                     object\n",
       "alignment_score                                  int64\n",
       "mc_synonymous_variant                            int64\n",
       "mc_3_prime_UTR_variant                           int64\n",
       "mc_5_prime_UTR_variant                           int64\n",
       "mc_splice_donor_variant                          int64\n",
       "mc_splice_acceptor_variant                       int64\n",
       "mc_nonsense                                      int64\n",
       "mc_intron_variant                                int64\n",
       "mc_missense_variant                              int64\n",
       "mc_stop_lost                                     int64\n",
       "splice_distance                                  int64\n",
       "mutated_sequence_fixed                          object\n",
       "label                                            int64\n",
       "dtype: object"
      ]
     },
     "execution_count": 23,
     "metadata": {},
     "output_type": "execute_result"
    }
   ],
   "source": [
    "df.dtypes\n"
   ]
  },
  {
   "cell_type": "code",
   "execution_count": 24,
   "id": "977b6251",
   "metadata": {},
   "outputs": [],
   "source": [
    "drop_cols = [\n",
    "    'Name', 'Gene(s)', 'Protein change', 'Condition(s)', 'Accession',\n",
    "    'GRCh37Chromosome', 'GRCh37Location', 'GRCh38Chromosome', 'GRCh38Location',\n",
    "    'VariationID', 'AlleleID(s)', 'dbSNP ID', 'Canonical SPDI',\n",
    "    'Germline date last evaluated', 'Somatic clinical impact',\n",
    "    'Somatic clinical impact date last evaluated', 'Somatic clinical impact review status',\n",
    "    'Oncogenicity classification', 'Oncogenicity date last evaluated', 'Oncogenicity review status',\n",
    "    'Unnamed: 24', 'Sequence_ID', 'sequence_window', 'mutated_sequence',\n",
    "    'aligned_ref', 'aligned_alt','Germline classification',\n",
    "       'Germline review status', 'Molecular consequence'\n",
    "]\n"
   ]
  },
  {
   "cell_type": "code",
   "execution_count": 25,
   "id": "0b1278b9",
   "metadata": {},
   "outputs": [
    {
     "data": {
      "text/plain": [
       "Variant type                  object\n",
       "position                       int64\n",
       "Deleted_Sequence              object\n",
       "Inserted_Sequence             object\n",
       "prev_position_allele          object\n",
       "next_position_allele          object\n",
       "alignment_score                int64\n",
       "mc_synonymous_variant          int64\n",
       "mc_3_prime_UTR_variant         int64\n",
       "mc_5_prime_UTR_variant         int64\n",
       "mc_splice_donor_variant        int64\n",
       "mc_splice_acceptor_variant     int64\n",
       "mc_nonsense                    int64\n",
       "mc_intron_variant              int64\n",
       "mc_missense_variant            int64\n",
       "mc_stop_lost                   int64\n",
       "splice_distance                int64\n",
       "mutated_sequence_fixed        object\n",
       "label                          int64\n",
       "dtype: object"
      ]
     },
     "execution_count": 25,
     "metadata": {},
     "output_type": "execute_result"
    }
   ],
   "source": [
    "df = df.drop(columns=drop_cols)\n",
    "\n",
    "df.dtypes"
   ]
  },
  {
   "cell_type": "code",
   "execution_count": 26,
   "id": "43b236bd",
   "metadata": {},
   "outputs": [
    {
     "data": {
      "text/plain": [
       "array(['Duplication', 'Deletion', 'single nucleotide variant',\n",
       "       'Insertion', 'Indel'], dtype=object)"
      ]
     },
     "execution_count": 26,
     "metadata": {},
     "output_type": "execute_result"
    }
   ],
   "source": [
    "df['Variant type'].unique()"
   ]
  },
  {
   "cell_type": "code",
   "execution_count": 27,
   "id": "c1da864f",
   "metadata": {},
   "outputs": [
    {
     "name": "stdout",
     "output_type": "stream",
     "text": [
      "    position Deleted_Sequence Inserted_Sequence prev_position_allele  \\\n",
      "0  154021863       GGGGGGGGGG       GGGGGGGGGGG                    G   \n",
      "1  154021863       GGGGGGGGGG         GGGGGGGGG                    G   \n",
      "2  154022510                T                 G                    G   \n",
      "3  154022618                G                 A                    A   \n",
      "4  154024527                G                 A                    C   \n",
      "\n",
      "  next_position_allele  alignment_score  mc_synonymous_variant  \\\n",
      "0                    G               92                      0   \n",
      "1                    G               80                      0   \n",
      "2                    T              110                      0   \n",
      "3                    G              101                      0   \n",
      "4                    G              110                      0   \n",
      "\n",
      "   mc_3_prime_UTR_variant  mc_5_prime_UTR_variant  mc_splice_donor_variant  \\\n",
      "0                       1                       0                        0   \n",
      "1                       1                       0                        0   \n",
      "2                       1                       0                        0   \n",
      "3                       1                       0                        0   \n",
      "4                       1                       0                        0   \n",
      "\n",
      "   mc_splice_acceptor_variant  mc_nonsense  mc_intron_variant  \\\n",
      "0                           0            0                  0   \n",
      "1                           0            0                  0   \n",
      "2                           0            0                  0   \n",
      "3                           0            0                  0   \n",
      "4                           0            0                  0   \n",
      "\n",
      "   mc_missense_variant  mc_stop_lost  splice_distance  \\\n",
      "0                    0             0              290   \n",
      "1                    0             0              290   \n",
      "2                    0             0              937   \n",
      "3                    0             0             1045   \n",
      "4                    0             0             2954   \n",
      "\n",
      "                              mutated_sequence_fixed  label  type  \n",
      "0  AAATTTATAAGGCAAACTCTTTATATAATAAATAGGTTACAGGGAT...      0     3  \n",
      "1  AAATTTATAAGGCAAACTCTTTATATAATAAATAGGTTACAGGGAT...      0     1  \n",
      "2  AGATGTTTTCGCCATGGAATGGGAAGGGGTTTTCTCACATCTAAGT...      0     0  \n",
      "3  CTGGGAAGGGGAGGGTGGGGAATAGAGATGTCACAGTGTTGAGCCC...      0     0  \n",
      "4  GACTCCAGCTCCCAGAGGTGGAAGGCGACCAGGCTGTGCCGACTAC...      0     0  \n"
     ]
    }
   ],
   "source": [
    "label_mapping = {\n",
    "    \"Duplication\": 3, \n",
    "    \"Deletion\": 1,\n",
    "    \"single nucleotide variant\": 0,\n",
    "    \"Insertion\": 2, \n",
    "    \"Indel\": 4\n",
    "}\n",
    "\n",
    "df[\"type\"] = df[\"Variant type\"].map(label_mapping).fillna(-1)  \n",
    "\n",
    "df = df[df[\"type\"] != -1].copy()\n",
    "\n",
    "df.drop(columns=['Variant type'], inplace=True)\n",
    "\n",
    "# Display first few rows\n",
    "print(df.head())"
   ]
  },
  {
   "cell_type": "code",
   "execution_count": 28,
   "id": "1697073b",
   "metadata": {},
   "outputs": [
    {
     "data": {
      "text/plain": [
       "position                       int64\n",
       "Deleted_Sequence              object\n",
       "Inserted_Sequence             object\n",
       "prev_position_allele          object\n",
       "next_position_allele          object\n",
       "alignment_score                int64\n",
       "mc_synonymous_variant          int64\n",
       "mc_3_prime_UTR_variant         int64\n",
       "mc_5_prime_UTR_variant         int64\n",
       "mc_splice_donor_variant        int64\n",
       "mc_splice_acceptor_variant     int64\n",
       "mc_nonsense                    int64\n",
       "mc_intron_variant              int64\n",
       "mc_missense_variant            int64\n",
       "mc_stop_lost                   int64\n",
       "splice_distance                int64\n",
       "mutated_sequence_fixed        object\n",
       "label                          int64\n",
       "type                           int64\n",
       "dtype: object"
      ]
     },
     "execution_count": 28,
     "metadata": {},
     "output_type": "execute_result"
    }
   ],
   "source": [
    "df.dtypes"
   ]
  },
  {
   "cell_type": "code",
   "execution_count": 29,
   "id": "b8ffc3e0",
   "metadata": {},
   "outputs": [
    {
     "name": "stdout",
     "output_type": "stream",
     "text": [
      "    position Deleted_Sequence Inserted_Sequence  alignment_score  \\\n",
      "0  154021863       GGGGGGGGGG       GGGGGGGGGGG               92   \n",
      "1  154021863       GGGGGGGGGG         GGGGGGGGG               80   \n",
      "2  154022510                T                 G              110   \n",
      "3  154022618                G                 A              101   \n",
      "4  154024527                G                 A              110   \n",
      "\n",
      "   mc_synonymous_variant  mc_3_prime_UTR_variant  mc_5_prime_UTR_variant  \\\n",
      "0                      0                       1                       0   \n",
      "1                      0                       1                       0   \n",
      "2                      0                       1                       0   \n",
      "3                      0                       1                       0   \n",
      "4                      0                       1                       0   \n",
      "\n",
      "   mc_splice_donor_variant  mc_splice_acceptor_variant  mc_nonsense  ...  \\\n",
      "0                        0                           0            0  ...   \n",
      "1                        0                           0            0  ...   \n",
      "2                        0                           0            0  ...   \n",
      "3                        0                           0            0  ...   \n",
      "4                        0                           0            0  ...   \n",
      "\n",
      "   label  type  prev_A  prev_C prev_G  prev_T  next_A  next_C  next_G  next_T  \n",
      "0      0     3   False   False   True   False   False   False    True   False  \n",
      "1      0     1   False   False   True   False   False   False    True   False  \n",
      "2      0     0   False   False   True   False   False   False   False    True  \n",
      "3      0     0    True   False  False   False   False   False    True   False  \n",
      "4      0     0   False    True  False   False   False   False    True   False  \n",
      "\n",
      "[5 rows x 25 columns]\n"
     ]
    }
   ],
   "source": [
    "# One-hot encode both columns\n",
    "prev_encoded = pd.get_dummies(df['prev_position_allele'], prefix='prev')\n",
    "next_encoded = pd.get_dummies(df['next_position_allele'], prefix='next')\n",
    "\n",
    "# Concatenate with the original DataFrame\n",
    "df = pd.concat([df, prev_encoded, next_encoded], axis=1)\n",
    "\n",
    "# Optionally drop the original columns if no longer needed\n",
    "df.drop(['prev_position_allele', 'next_position_allele'], axis=1, inplace=True)\n",
    "print(df.head())"
   ]
  },
  {
   "cell_type": "code",
   "execution_count": 30,
   "id": "cf41fb06",
   "metadata": {},
   "outputs": [
    {
     "data": {
      "text/plain": [
       "position                       int64\n",
       "Deleted_Sequence              object\n",
       "Inserted_Sequence             object\n",
       "alignment_score                int64\n",
       "mc_synonymous_variant          int64\n",
       "mc_3_prime_UTR_variant         int64\n",
       "mc_5_prime_UTR_variant         int64\n",
       "mc_splice_donor_variant        int64\n",
       "mc_splice_acceptor_variant     int64\n",
       "mc_nonsense                    int64\n",
       "mc_intron_variant              int64\n",
       "mc_missense_variant            int64\n",
       "mc_stop_lost                   int64\n",
       "splice_distance                int64\n",
       "mutated_sequence_fixed        object\n",
       "label                          int64\n",
       "type                           int64\n",
       "prev_A                          bool\n",
       "prev_C                          bool\n",
       "prev_G                          bool\n",
       "prev_T                          bool\n",
       "next_A                          bool\n",
       "next_C                          bool\n",
       "next_G                          bool\n",
       "next_T                          bool\n",
       "dtype: object"
      ]
     },
     "execution_count": 30,
     "metadata": {},
     "output_type": "execute_result"
    }
   ],
   "source": [
    "df.dtypes"
   ]
  },
  {
   "cell_type": "code",
   "execution_count": 35,
   "id": "1d6c976b",
   "metadata": {},
   "outputs": [],
   "source": [
    "df= df.drop(columns=['Deleted_Sequence','Inserted_Sequence','mutated_sequence_fixed'])"
   ]
  },
  {
   "cell_type": "code",
   "execution_count": 36,
   "id": "e6475dfa",
   "metadata": {},
   "outputs": [
    {
     "data": {
      "text/plain": [
       "position                      int64\n",
       "alignment_score               int64\n",
       "mc_synonymous_variant         int64\n",
       "mc_3_prime_UTR_variant        int64\n",
       "mc_5_prime_UTR_variant        int64\n",
       "mc_splice_donor_variant       int64\n",
       "mc_splice_acceptor_variant    int64\n",
       "mc_nonsense                   int64\n",
       "mc_intron_variant             int64\n",
       "mc_missense_variant           int64\n",
       "mc_stop_lost                  int64\n",
       "splice_distance               int64\n",
       "label                         int64\n",
       "type                          int64\n",
       "prev_A                         bool\n",
       "prev_C                         bool\n",
       "prev_G                         bool\n",
       "prev_T                         bool\n",
       "next_A                         bool\n",
       "next_C                         bool\n",
       "next_G                         bool\n",
       "next_T                         bool\n",
       "dtype: object"
      ]
     },
     "execution_count": 36,
     "metadata": {},
     "output_type": "execute_result"
    }
   ],
   "source": [
    "df.dtypes"
   ]
  },
  {
   "cell_type": "code",
   "execution_count": 37,
   "id": "81e5ad22",
   "metadata": {},
   "outputs": [],
   "source": [
    "df.to_csv('data/featured_clinvar_result.csv')"
   ]
  }
 ],
 "metadata": {
  "kernelspec": {
   "display_name": "base",
   "language": "python",
   "name": "python3"
  },
  "language_info": {
   "codemirror_mode": {
    "name": "ipython",
    "version": 3
   },
   "file_extension": ".py",
   "mimetype": "text/x-python",
   "name": "python",
   "nbconvert_exporter": "python",
   "pygments_lexer": "ipython3",
   "version": "3.12.3"
  }
 },
 "nbformat": 4,
 "nbformat_minor": 5
}
