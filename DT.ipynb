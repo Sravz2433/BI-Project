{
 "cells": [
  {
   "cell_type": "code",
   "execution_count": 1,
   "id": "000b0e5a",
   "metadata": {},
   "outputs": [],
   "source": [
    "import pandas as pd\n",
    "from sklearn.tree import DecisionTreeClassifier\n",
    "from sklearn.metrics import accuracy_score, classification_report, confusion_matrix\n",
    "import joblib  # To save the model\n",
    "\n",
    "# Load the dataset (if not already in memory)\n",
    "file_path = \"data/featured_clinvar_result.csv\"\n",
    "df = pd.read_csv(file_path)\n",
    "\n",
    "# Define features (X) and target (y)\n",
    "X = df.drop(columns=[\"label\"])\n",
    "y = df[\"label\"]\n"
   ]
  },
  {
   "cell_type": "code",
   "execution_count": 2,
   "id": "401e89e6",
   "metadata": {},
   "outputs": [
    {
     "name": "stdout",
     "output_type": "stream",
     "text": [
      "✅ Train-Test Split Done: 972 Train Samples, 243 Test Samples\n"
     ]
    }
   ],
   "source": [
    "from sklearn.model_selection import train_test_split\n",
    "\n",
    "# Split data (80% training, 20% testing)\n",
    "X_train, X_test, y_train, y_test = train_test_split(X, y, test_size=0.2, random_state=42, stratify=y)\n",
    "\n",
    "print(f\"✅ Train-Test Split Done: {X_train.shape[0]} Train Samples, {X_test.shape[0]} Test Samples\")\n"
   ]
  },
  {
   "cell_type": "code",
   "execution_count": 3,
   "id": "78444dc6",
   "metadata": {},
   "outputs": [
    {
     "name": "stdout",
     "output_type": "stream",
     "text": [
      "✅ Decision Tree Model Trained Successfully!\n",
      "Decision tree Training Time: 0.0178 seconds\n",
      "Decision Tree Inference Time: 0.0021 seconds\n"
     ]
    }
   ],
   "source": [
    "import time\n",
    "dt_model = DecisionTreeClassifier(random_state=42)\n",
    "start_time = time.time()\n",
    "dt_model.fit(X_train, y_train)\n",
    "rf_training_time = time.time() - start_time\n",
    "print(\"✅ Decision Tree Model Trained Successfully!\")\n",
    "print(f\"Decision tree Training Time: {rf_training_time:.4f} seconds\")\n",
    "start_time = time.time()\n",
    "dt_preds = dt_model.predict(X_test)\n",
    "rf_inference_time = time.time() - start_time\n",
    "print(f\"Decision Tree Inference Time: {rf_inference_time:.4f} seconds\")"
   ]
  },
  {
   "cell_type": "code",
   "execution_count": 5,
   "id": "4bbb3092",
   "metadata": {},
   "outputs": [
    {
     "name": "stdout",
     "output_type": "stream",
     "text": [
      "✅ Decision Tree Accuracy: 0.9588\n",
      "\n",
      "🔍 Classification Report:\n",
      "              precision    recall  f1-score   support\n",
      "\n",
      "           0       0.95      0.97      0.96       126\n",
      "           1       0.97      0.95      0.96       117\n",
      "\n",
      "    accuracy                           0.96       243\n",
      "   macro avg       0.96      0.96      0.96       243\n",
      "weighted avg       0.96      0.96      0.96       243\n",
      "\n",
      "\n",
      "🔍 Confusion Matrix:\n",
      "[[122   4]\n",
      " [  6 111]]\n"
     ]
    }
   ],
   "source": [
    "# Calculate accuracy\n",
    "accuracy = accuracy_score(y_test, dt_preds)\n",
    "print(f\"✅ Decision Tree Accuracy: {accuracy:.4f}\")\n",
    "\n",
    "# Classification Report\n",
    "print(\"\\n🔍 Classification Report:\")\n",
    "print(classification_report(y_test, dt_preds))\n",
    "\n",
    "# Confusion Matrix\n",
    "print(\"\\n🔍 Confusion Matrix:\")\n",
    "print(confusion_matrix(y_test, dt_preds))"
   ]
  },
  {
   "cell_type": "code",
   "execution_count": 6,
   "id": "8aecc040",
   "metadata": {},
   "outputs": [
    {
     "name": "stdout",
     "output_type": "stream",
     "text": [
      "✅ Model Saved at: models/decision_tree.pkl\n"
     ]
    }
   ],
   "source": [
    "# Save trained Random Forest model\n",
    "model_path = \"models/decision_tree.pkl\"\n",
    "joblib.dump(dt_model, model_path)\n",
    "\n",
    "print(f\"✅ Model Saved at: {model_path}\")\n"
   ]
  }
 ],
 "metadata": {
  "kernelspec": {
   "display_name": "base",
   "language": "python",
   "name": "python3"
  },
  "language_info": {
   "codemirror_mode": {
    "name": "ipython",
    "version": 3
   },
   "file_extension": ".py",
   "mimetype": "text/x-python",
   "name": "python",
   "nbconvert_exporter": "python",
   "pygments_lexer": "ipython3",
   "version": "3.12.3"
  }
 },
 "nbformat": 4,
 "nbformat_minor": 5
}
