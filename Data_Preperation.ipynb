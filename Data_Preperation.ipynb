{
 "cells": [
  {
   "cell_type": "code",
   "execution_count": 25,
   "id": "2cd59d59",
   "metadata": {},
   "outputs": [
    {
     "name": "stdout",
     "output_type": "stream",
     "text": [
      "TXT file successfully converted to CSV!\n"
     ]
    }
   ],
   "source": [
    "import pandas as pd\n",
    "\n",
    "df = pd.read_csv(\"data/clinvar_result (21).txt\", delimiter=\"\\t\")  # Change delimiter if needed\n",
    "\n",
    "# Save as CSV\n",
    "df.to_csv(\"data/clinvar_result.csv\", index=False)\n",
    "\n",
    "print(\"TXT file successfully converted to CSV!\")\n"
   ]
  },
  {
   "cell_type": "code",
   "execution_count": 26,
   "id": "63c2c5ba",
   "metadata": {},
   "outputs": [
    {
     "name": "stdout",
     "output_type": "stream",
     "text": [
      "                                              Name  \\\n",
      "0                                    Single allele   \n",
      "1  GRCh38/hg38 Xp22.33-q28(chrX:10001-156030895)x1   \n",
      "2  GRCh38/hg38 Xp22.33-q28(chrX:10679-156013167)x1   \n",
      "3  GRCh38/hg38 Xp22.33-q28(chrX:10679-156022206)x3   \n",
      "4  GRCh38/hg38 Xp22.33-q28(chrX:10679-156022206)x1   \n",
      "\n",
      "                                             Gene(s) Protein change  \\\n",
      "0  ARSF|CFAP47|LOC130068640|ABCB7|ARSH|ARSL|CFP|L...            NaN   \n",
      "1  ABCB7|ABCD1|ACE2|ACE2-DT|ACOT9|ACSL4|ACTRT1|AD...            NaN   \n",
      "2  LOC130067918|LOC130067919|LOC130067920|LOC1300...            NaN   \n",
      "3  LOC130068528|LOC130068529|LOC130068530|LOC1300...            NaN   \n",
      "4  ARMCX5|ARMCX5-GPRASP2|ARMCX6|ARR3|ARSD|ARSD-AS...            NaN   \n",
      "\n",
      "           Condition(s)     Accession GRCh37Chromosome     GRCh37Location  \\\n",
      "0  Autism|Schizophrenia  VCV000488014              NaN                NaN   \n",
      "1             See cases  VCV000146764                X  60001 - 155260560   \n",
      "2             See cases  VCV000160983                X  60679 - 155242832   \n",
      "3             See cases  VCV000160897                X  60679 - 155251871   \n",
      "4             See cases  VCV000160890                X  60679 - 155251871   \n",
      "\n",
      "  GRCh38Chromosome     GRCh38Location  VariationID  ...  \\\n",
      "0                X      1 - 156040895       488014  ...   \n",
      "1                X  10001 - 156030895       146764  ...   \n",
      "2                X  10679 - 156013167       160983  ...   \n",
      "3                X  10679 - 156022206       160897  ...   \n",
      "4                X  10679 - 156022206       160890  ...   \n",
      "\n",
      "  Germline classification Germline date last evaluated  \\\n",
      "0              Pathogenic                 Mar 20, 2018   \n",
      "1              Pathogenic                 Oct 30, 2010   \n",
      "2              Pathogenic                 Aug 12, 2011   \n",
      "3              Pathogenic                 Aug 12, 2011   \n",
      "4              Pathogenic                 Aug 12, 2011   \n",
      "\n",
      "                              Germline review status Somatic clinical impact  \\\n",
      "0                criteria provided, single submitter                     NaN   \n",
      "1                     no assertion criteria provided                     NaN   \n",
      "2                criteria provided, single submitter                     NaN   \n",
      "3  criteria provided, multiple submitters, no con...                     NaN   \n",
      "4                criteria provided, single submitter                     NaN   \n",
      "\n",
      "  Somatic clinical impact date last evaluated  \\\n",
      "0                                         NaN   \n",
      "1                                         NaN   \n",
      "2                                         NaN   \n",
      "3                                         NaN   \n",
      "4                                         NaN   \n",
      "\n",
      "  Somatic clinical impact review status Oncogenicity classification  \\\n",
      "0                                   NaN                         NaN   \n",
      "1                                   NaN                         NaN   \n",
      "2                                   NaN                         NaN   \n",
      "3                                   NaN                         NaN   \n",
      "4                                   NaN                         NaN   \n",
      "\n",
      "  Oncogenicity date last evaluated  Oncogenicity review status  Unnamed: 24  \n",
      "0                              NaN                         NaN          NaN  \n",
      "1                              NaN                         NaN          NaN  \n",
      "2                              NaN                         NaN          NaN  \n",
      "3                              NaN                         NaN          NaN  \n",
      "4                              NaN                         NaN          NaN  \n",
      "\n",
      "[5 rows x 25 columns]\n"
     ]
    }
   ],
   "source": [
    "print(df.head())"
   ]
  },
  {
   "cell_type": "code",
   "execution_count": 27,
   "id": "b0297dea",
   "metadata": {},
   "outputs": [
    {
     "name": "stdout",
     "output_type": "stream",
     "text": [
      "Index(['Name', 'Gene(s)', 'Protein change', 'Condition(s)', 'Accession',\n",
      "       'GRCh37Chromosome', 'GRCh37Location', 'GRCh38Chromosome',\n",
      "       'GRCh38Location', 'VariationID', 'AlleleID(s)', 'dbSNP ID',\n",
      "       'Canonical SPDI', 'Variant type', 'Molecular consequence',\n",
      "       'Germline classification', 'Germline date last evaluated',\n",
      "       'Germline review status', 'Somatic clinical impact',\n",
      "       'Somatic clinical impact date last evaluated',\n",
      "       'Somatic clinical impact review status', 'Oncogenicity classification',\n",
      "       'Oncogenicity date last evaluated', 'Oncogenicity review status',\n",
      "       'Unnamed: 24'],\n",
      "      dtype='object')\n"
     ]
    }
   ],
   "source": [
    "print(df.columns)"
   ]
  },
  {
   "cell_type": "code",
   "execution_count": 28,
   "id": "87d0f99d",
   "metadata": {},
   "outputs": [
    {
     "name": "stdout",
     "output_type": "stream",
     "text": [
      "Number of valid SPDI entries: 1215\n"
     ]
    }
   ],
   "source": [
    "valid_spdi_mask = df['Canonical SPDI'].apply(lambda x: isinstance(x, str) and x.count(':') == 3)\n",
    "num_valid_spdi = valid_spdi_mask.sum()\n",
    "\n",
    "print(f\"Number of valid SPDI entries: {num_valid_spdi}\")\n"
   ]
  },
  {
   "cell_type": "code",
   "execution_count": 29,
   "id": "b89243f9",
   "metadata": {},
   "outputs": [
    {
     "name": "stdout",
     "output_type": "stream",
     "text": [
      "Remaining rows with valid SPDI: 1215\n"
     ]
    }
   ],
   "source": [
    "# Keep only rows where Canonical SPDI is a string with exactly 3 colons\n",
    "df = df[df['Canonical SPDI'].apply(lambda x: isinstance(x, str) and x.count(':') == 3)].copy()\n",
    "\n",
    "# Reset index if needed\n",
    "df.reset_index(drop=True, inplace=True)\n",
    "\n",
    "print(f\"Remaining rows with valid SPDI: {len(df)}\")\n"
   ]
  },
  {
   "cell_type": "code",
   "execution_count": 30,
   "id": "d3c6849d",
   "metadata": {},
   "outputs": [],
   "source": [
    "\n",
    "\n",
    "# Assuming df is your original DataFrame\n",
    "df_clean = df.copy()\n",
    "\n",
    "# Initialize empty columns\n",
    "df_clean['Sequence_ID'] = \"\"\n",
    "df_clean['position'] = \"\"\n",
    "df_clean['Deleted_Sequence'] = \"\"\n",
    "df_clean['Inserted_Sequence'] = \"\"\n",
    "\n",
    "# Split 'Canonical SPDI' only if it is valid\n",
    "for index, row in df_clean.iterrows():\n",
    "    spdi = row.get('Canonical SPDI')\n",
    "    if isinstance(spdi, str) and spdi.count(':') == 3:\n",
    "        parts = spdi.split(':')\n",
    "        df_clean.at[index, 'Sequence_ID'] = parts[0]\n",
    "        df_clean.at[index, 'position'] = parts[1]\n",
    "        df_clean.at[index, 'Deleted_Sequence'] = parts[2]\n",
    "        df_clean.at[index, 'Inserted_Sequence'] = parts[3]\n",
    "\n",
    "# Optional: convert position to int if needed\n",
    "# df_clean['position'] = pd.to_numeric(df_clean['position'], errors='coerce')\n"
   ]
  },
  {
   "cell_type": "code",
   "execution_count": 31,
   "id": "4c0ecd5c",
   "metadata": {},
   "outputs": [
    {
     "name": "stdout",
     "output_type": "stream",
     "text": [
      "                                  Canonical SPDI Deleted_Sequence  \\\n",
      "0  NC_000023.11:154021863:GGGGGGGGGG:GGGGGGGGGGG       GGGGGGGGGG   \n",
      "1    NC_000023.11:154021863:GGGGGGGGGG:GGGGGGGGG       GGGGGGGGGG   \n",
      "2                     NC_000023.11:154022510:T:G                T   \n",
      "3                     NC_000023.11:154022618:G:A                G   \n",
      "4                     NC_000023.11:154024527:G:A                G   \n",
      "5                     NC_000023.11:154025018:A:G                A   \n",
      "6                     NC_000023.11:154025790:T:G                T   \n",
      "7                     NC_000023.11:154026488:C:G                C   \n",
      "8                     NC_000023.11:154026704:T:C                T   \n",
      "9                     NC_000023.11:154026708:G:A                G   \n",
      "\n",
      "  Inserted_Sequence  \n",
      "0       GGGGGGGGGGG  \n",
      "1         GGGGGGGGG  \n",
      "2                 G  \n",
      "3                 A  \n",
      "4                 A  \n",
      "5                 G  \n",
      "6                 G  \n",
      "7                 G  \n",
      "8                 C  \n",
      "9                 A  \n"
     ]
    }
   ],
   "source": [
    "print(df_clean[['Canonical SPDI', 'Deleted_Sequence', 'Inserted_Sequence']].head(10))"
   ]
  },
  {
   "cell_type": "code",
   "execution_count": 32,
   "id": "a4d6c4db",
   "metadata": {},
   "outputs": [],
   "source": [
    "df_clean.to_csv(\"data/SPDI_clinvar_result.csv\", index=False)"
   ]
  },
  {
   "cell_type": "code",
   "execution_count": 35,
   "id": "48cdc922",
   "metadata": {},
   "outputs": [],
   "source": [
    "import requests\n",
    "df_variants = df_clean\n",
    "def fetch_dna_sequence(position, window=50):\n",
    "    \"\"\"Fetches a DNA sequence window (±50 bp) around a variant on Chromosome X.\"\"\"\n",
    "    start = max(1, int(position) - window)\n",
    "    end = int(position) + window\n",
    "    url = f\"https://rest.ensembl.org/sequence/region/human/X:{start}..{end}?content-type=text/plain\"\n",
    "    \n",
    "    response = requests.get(url)\n",
    "    if response.status_code == 200:\n",
    "        return response.text.strip()\n",
    "    return \"N\" * (2 * window + 1)  # If request fails, return Ns\n",
    "\n",
    "# Apply function to get sequence windows (Chromosome is always 'X')\n",
    "df_variants[\"sequence_window\"] = df_variants[\"position\"].apply(\n",
    "    lambda pos: fetch_dna_sequence(pos) if pos != \"N/A\" else \"N\" * 101\n",
    ")\n",
    "\n",
    "# Replace reference allele with alternate allele at position 51\n",
    "def mutate_sequence(sequence, variant, position=50):\n",
    "    \"\"\"Replaces the reference base with the alternate allele at position 51.\"\"\"\n",
    "    return sequence[:position] + variant + sequence[position+1:]\n",
    "\n",
    "# Convert alternate alleles to strings and handle NaNs\n",
    "df_variants[\"Inserted_Sequence\"] = df_variants[\"Inserted_Sequence\"].fillna(\"N\").astype(str)\n",
    "\n",
    "# Apply function to mutate sequence\n",
    "df_variants[\"mutated_sequence\"] = df_variants.apply(\n",
    "    lambda row: mutate_sequence(row[\"sequence_window\"], row[\"Inserted_Sequence\"]) \n",
    "    if row[\"sequence_window\"] != \"N\" * 101 else row[\"sequence_window\"],\n",
    "    axis=1\n",
    ")\n",
    "\n",
    "def get_prev_alleles(sequence, position=50):\n",
    "    \"\"\"Extracts the previous allele from the sequence window.\"\"\"\n",
    "    return sequence[position - 1] if position > 0 else \"N\"\n",
    "\n",
    "def get_next_alleles(sequence, position=50):\n",
    "    \"\"\"Extracts the next allele from the sequence window.\"\"\"\n",
    "    return sequence[position + 1] if position < len(sequence) - 1 else \"N\"\n",
    "\n",
    "# Apply function to extract alleles\n",
    "df_variants[\"prev_position_allele\"] = df_variants[\"sequence_window\"].apply(get_prev_alleles)\n",
    "df_variants[\"next_position_allele\"] = df_variants[\"sequence_window\"].apply(get_next_alleles)\n"
   ]
  },
  {
   "cell_type": "code",
   "execution_count": 37,
   "id": "784b0c4e",
   "metadata": {},
   "outputs": [],
   "source": [
    "df_variants.to_csv(\"data/variant_clinvar_result.csv\", index=False)"
   ]
  },
  {
   "cell_type": "code",
   "execution_count": 38,
   "id": "7b4b97a1",
   "metadata": {},
   "outputs": [],
   "source": [
    "import random\n",
    "\n",
    "# Alignment scoring\n",
    "def calculate_fitness(seq1, seq2, match=1, mismatch=-1, gap=-2):\n",
    "    score = 0\n",
    "    for a, b in zip(seq1, seq2):\n",
    "        if a == '-' or b == '-':\n",
    "            score += gap\n",
    "        elif a == b:\n",
    "            score += match\n",
    "        else:\n",
    "            score += mismatch\n",
    "    return score\n",
    "\n",
    "# Align sequences to equal length with padding\n",
    "def pad_sequences(seq1, seq2, pad_char='-'):\n",
    "    max_len = max(len(seq1), len(seq2))\n",
    "    return seq1.ljust(max_len, pad_char), seq2.ljust(max_len, pad_char)\n",
    "\n",
    "# Genetic algorithm for single pair alignment\n",
    "def genetic_align(seq1, seq2, pop_size=50, generations=100):\n",
    "    seq1, seq2 = pad_sequences(seq1, seq2)\n",
    "\n",
    "    def random_individual():\n",
    "        # Randomly insert gaps into either sequence\n",
    "        s1 = list(seq1)\n",
    "        s2 = list(seq2)\n",
    "        for _ in range(random.randint(0, 5)):\n",
    "            i = random.randint(0, len(s1)-1)\n",
    "            s1.insert(i, '-')\n",
    "        for _ in range(random.randint(0, 5)):\n",
    "            i = random.randint(0, len(s2)-1)\n",
    "            s2.insert(i, '-')\n",
    "        max_len = max(len(s1), len(s2))\n",
    "        return ''.join(s1).ljust(max_len, '-'), ''.join(s2).ljust(max_len, '-')\n",
    "\n",
    "    # Initialize population\n",
    "    population = [random_individual() for _ in range(pop_size)]\n",
    "\n",
    "    for gen in range(generations):\n",
    "        # Evaluate fitness\n",
    "        population.sort(key=lambda pair: calculate_fitness(pair[0], pair[1]), reverse=True)\n",
    "        new_population = population[:10]  # Elitism\n",
    "\n",
    "        while len(new_population) < pop_size:\n",
    "            p1, p2 = random.sample(population[:20], 2)\n",
    "            # Simple crossover\n",
    "            cut = random.randint(1, len(p1[0])-2)\n",
    "            child1 = (p1[0][:cut] + p2[0][cut:], p1[1][:cut] + p2[1][cut:])\n",
    "            child2 = (p2[0][:cut] + p1[0][cut:], p2[1][:cut] + p1[1][cut:])\n",
    "\n",
    "            # Mutation: random gap insertion\n",
    "            for child in [child1, child2]:\n",
    "                if random.random() < 0.3:\n",
    "                    s1 = list(child[0])\n",
    "                    s2 = list(child[1])\n",
    "                    idx = random.randint(0, len(s1)-1)\n",
    "                    s1.insert(idx, '-')\n",
    "                    s2.insert(idx, '-')\n",
    "                    child = (''.join(s1), ''.join(s2))\n",
    "                new_population.append(child)\n",
    "\n",
    "        population = new_population[:pop_size]\n",
    "\n",
    "    best = population[0]\n",
    "    return best, calculate_fitness(best[0], best[1])\n"
   ]
  },
  {
   "cell_type": "code",
   "execution_count": 39,
   "id": "041ac3ae",
   "metadata": {},
   "outputs": [
    {
     "name": "stdout",
     "output_type": "stream",
     "text": [
      "Best Alignment:\n",
      "AAATTTATAAGGCAAACTCTTTATATAATAAATAGGTTACAGGGATTCAGTGGGGGGGGGGTGTTTTTGAAACGTATACAGGTACATTCAAGACAGGTTTACTTAC------\n",
      "AAATTTATAAGGCAAACTCTTTATATAATAAATAGGTTACAGGGATTCAGGGGGGGGGGGGGGGGGGGGGGTGTTTTTGAAACGTATACAAGGTACATTCAGAGACATTTAC\n",
      "Score: 36\n"
     ]
    }
   ],
   "source": [
    "ref_seq = df_variants.iloc[0][\"sequence_window\"]\n",
    "mut_seq = df_variants.iloc[0][\"mutated_sequence\"]\n",
    "\n",
    "(aligned1, aligned2), score = genetic_align(ref_seq, mut_seq)\n",
    "print(\"Best Alignment:\")\n",
    "print(aligned1)\n",
    "print(aligned2)\n",
    "print(\"Score:\", score)\n"
   ]
  },
  {
   "cell_type": "code",
   "execution_count": 52,
   "id": "f7c4a48c",
   "metadata": {},
   "outputs": [],
   "source": [
    "alignments = []\n",
    "for i, row in df_variants.iterrows():\n",
    "    ref = row[\"sequence_window\"]\n",
    "    alt = row[\"mutated_sequence\"]\n",
    "    (a1, a2), score = genetic_align(ref, alt)\n",
    "    alignments.append((a1, a2, score))\n",
    "\n",
    "df_variants[\"aligned_ref\"], df_variants[\"aligned_alt\"], df_variants[\"alignment_score\"] = zip(*alignments)\n"
   ]
  },
  {
   "cell_type": "code",
   "execution_count": null,
   "id": "397660a4",
   "metadata": {},
   "outputs": [],
   "source": []
  },
  {
   "cell_type": "code",
   "execution_count": 56,
   "id": "a186ceab",
   "metadata": {},
   "outputs": [
    {
     "name": "stdout",
     "output_type": "stream",
     "text": [
      "\n",
      "✅ Sample After Modification:\n",
      "                               Name Gene(s) Protein change  \\\n",
      "0  NM_001110792.2(MECP2):c.*8503dup   MECP2            NaN   \n",
      "1  NM_001110792.2(MECP2):c.*8503del   MECP2            NaN   \n",
      "2  NM_001110792.2(MECP2):c.*7856A>C   MECP2            NaN   \n",
      "3  NM_001110792.2(MECP2):c.*7748C>T   MECP2            NaN   \n",
      "4  NM_001110792.2(MECP2):c.*5839C>T   MECP2            NaN   \n",
      "\n",
      "                 Condition(s)     Accession GRCh37Chromosome  \\\n",
      "0               Rett syndrome  VCV000143289                X   \n",
      "1               Rett syndrome  VCV000143288                X   \n",
      "2  not provided|Rett syndrome  VCV000143283                X   \n",
      "3               Rett syndrome  VCV000143282                X   \n",
      "4               Rett syndrome  VCV000143280                X   \n",
      "\n",
      "          GRCh37Location GRCh38Chromosome         GRCh38Location  VariationID  \\\n",
      "0  153287314 - 153287315                X  154021863 - 154021864       143289   \n",
      "1              153287315                X              154021864       143288   \n",
      "2              153287962                X              154022511       143283   \n",
      "3              153288070                X              154022619       143282   \n",
      "4              153289979                X              154024528       143280   \n",
      "\n",
      "   ... alignment_score mc_synonymous_variant mc_3_prime_UTR_variant  \\\n",
      "0  ...              92                     0                      1   \n",
      "1  ...              80                     0                      1   \n",
      "2  ...             110                     0                      1   \n",
      "3  ...             101                     0                      1   \n",
      "4  ...             110                     0                      1   \n",
      "\n",
      "  mc_5_prime_UTR_variant mc_splice_donor_variant mc_splice_acceptor_variant  \\\n",
      "0                      0                       0                          0   \n",
      "1                      0                       0                          0   \n",
      "2                      0                       0                          0   \n",
      "3                      0                       0                          0   \n",
      "4                      0                       0                          0   \n",
      "\n",
      "  mc_nonsense mc_intron_variant  mc_missense_variant  mc_stop_lost  \n",
      "0           0                 0                    0             0  \n",
      "1           0                 0                    0             0  \n",
      "2           0                 0                    0             0  \n",
      "3           0                 0                    0             0  \n",
      "4           0                 0                    0             0  \n",
      "\n",
      "[5 rows x 45 columns]\n"
     ]
    }
   ],
   "source": [
    "mc_labels = [\"synonymous variant\",\"3 prime UTR variant\", \"5 prime UTR variant\",\"splice donor variant\",\"splice acceptor variant\", \"nonsense\", \"intron variant\", \"missense variant\", \"stop lost\"]\n",
    "\n",
    "for mc in mc_labels:\n",
    "    df_variants[f\"mc_{mc.replace(' ', '_')}\"] = df_variants[\"Molecular consequence\"].apply(lambda x: 1 if mc in str(x) else 0)\n",
    "\n",
    "\n",
    "print(\"\\n✅ Sample After Modification:\")\n",
    "print(df_variants.head())\n"
   ]
  },
  {
   "cell_type": "code",
   "execution_count": 57,
   "id": "e6aab434",
   "metadata": {},
   "outputs": [
    {
     "name": "stdout",
     "output_type": "stream",
     "text": [
      "Index(['Name', 'Gene(s)', 'Protein change', 'Condition(s)', 'Accession',\n",
      "       'GRCh37Chromosome', 'GRCh37Location', 'GRCh38Chromosome',\n",
      "       'GRCh38Location', 'VariationID', 'AlleleID(s)', 'dbSNP ID',\n",
      "       'Canonical SPDI', 'Variant type', 'Molecular consequence',\n",
      "       'Germline classification', 'Germline date last evaluated',\n",
      "       'Germline review status', 'Somatic clinical impact',\n",
      "       'Somatic clinical impact date last evaluated',\n",
      "       'Somatic clinical impact review status', 'Oncogenicity classification',\n",
      "       'Oncogenicity date last evaluated', 'Oncogenicity review status',\n",
      "       'Unnamed: 24', 'Sequence_ID', 'position', 'Deleted_Sequence',\n",
      "       'Inserted_Sequence', 'sequence_window', 'mutated_sequence',\n",
      "       'prev_position_allele', 'next_position_allele', 'aligned_ref',\n",
      "       'aligned_alt', 'alignment_score', 'mc_synonymous_variant',\n",
      "       'mc_3_prime_UTR_variant', 'mc_5_prime_UTR_variant',\n",
      "       'mc_splice_donor_variant', 'mc_splice_acceptor_variant', 'mc_nonsense',\n",
      "       'mc_intron_variant', 'mc_missense_variant', 'mc_stop_lost'],\n",
      "      dtype='object')\n"
     ]
    }
   ],
   "source": [
    "print(df_variants.columns)"
   ]
  },
  {
   "cell_type": "code",
   "execution_count": 58,
   "id": "2250f468",
   "metadata": {},
   "outputs": [],
   "source": [
    "df_variants.to_csv(\"data/aligned_clinvar_result.csv\", index=False)"
   ]
  }
 ],
 "metadata": {
  "kernelspec": {
   "display_name": "base",
   "language": "python",
   "name": "python3"
  },
  "language_info": {
   "codemirror_mode": {
    "name": "ipython",
    "version": 3
   },
   "file_extension": ".py",
   "mimetype": "text/x-python",
   "name": "python",
   "nbconvert_exporter": "python",
   "pygments_lexer": "ipython3",
   "version": "3.12.3"
  }
 },
 "nbformat": 4,
 "nbformat_minor": 5
}
