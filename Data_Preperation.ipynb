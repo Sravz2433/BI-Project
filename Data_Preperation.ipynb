{
 "cells": [
  {
   "cell_type": "markdown",
   "metadata": {},
   "source": [
    "# Analysis Plan for MECP2 Mutation"
   ]
  },
  {
   "cell_type": "markdown",
   "metadata": {},
   "source": [
    "### Conversion of .txt to .csv\n"
   ]
  },
  {
   "cell_type": "code",
   "execution_count": 14,
   "metadata": {},
   "outputs": [
    {
     "name": "stdout",
     "output_type": "stream",
     "text": [
      "✅ TXT file successfully converted to CSV!\n"
     ]
    }
   ],
   "source": [
    "import pandas as pd\n",
    "\n",
    "# Load the text file\n",
    "df = pd.read_csv(\"datap/clinvar_result_CDKL5.txt\", delimiter=\"\\t\")  # Change delimiter if needed\n",
    "\n",
    "# Save as CSV\n",
    "df.to_csv(\"datap/clinvar_result_CDKL5.csv\", index=False)\n",
    "\n",
    "print(\"✅ TXT file successfully converted to CSV!\")\n"
   ]
  },
  {
   "cell_type": "code",
   "execution_count": 15,
   "metadata": {},
   "outputs": [
    {
     "name": "stdout",
     "output_type": "stream",
     "text": [
      "✅ TXT file successfully converted to CSV!\n"
     ]
    }
   ],
   "source": [
    "# Load the text file\n",
    "df = pd.read_csv(\"datap/clinvar_result_MECP2.txt\", delimiter=\"\\t\")  # Change delimiter if needed\n",
    "\n",
    "# Save as CSV\n",
    "df.to_csv(\"datap/clinvar_result_MECP2.csv\", index=False)\n",
    "\n",
    "print(\"✅ TXT file successfully converted to CSV!\")\n"
   ]
  },
  {
   "cell_type": "code",
   "execution_count": 16,
   "metadata": {},
   "outputs": [
    {
     "name": "stdout",
     "output_type": "stream",
     "text": [
      "✅ TXT file successfully converted to CSV!\n"
     ]
    }
   ],
   "source": [
    "# Load the text file\n",
    "df = pd.read_csv(\"datap/clinvar_result_FOXG1.txt\", delimiter=\"\\t\")  # Change delimiter if needed\n",
    "\n",
    "# Save as CSV\n",
    "df.to_csv(\"datap/clinvar_result_FOXG1.csv\", index=False)\n",
    "\n",
    "print(\"✅ TXT file successfully converted to CSV!\")\n"
   ]
  },
  {
   "cell_type": "code",
   "execution_count": 17,
   "metadata": {},
   "outputs": [],
   "source": [
    "csv_files =[\"datap/clinvar_result_MECP2.csv\",\"datap/clinvar_result_CDKL5.csv\",\"datap/clinvar_result_FOXG1.csv\"]"
   ]
  },
  {
   "cell_type": "code",
   "execution_count": 23,
   "metadata": {},
   "outputs": [],
   "source": [
    "l =[]\n",
    "for f in csv_files:\n",
    "    l.append(pd.read_csv(f))\n",
    "     \n",
    "df = pd.concat(l, ignore_index=True)\n",
    "df.to_csv(\"datap/clinvar_result.csv\", index=False)"
   ]
  },
  {
   "cell_type": "code",
   "execution_count": 27,
   "metadata": {},
   "outputs": [
    {
     "name": "stdout",
     "output_type": "stream",
     "text": [
      "                               Name Gene(s) Protein change  \\\n",
      "0  NM_001110792.2(MECP2):c.*7856A>C   MECP2            NaN   \n",
      "1  NM_001110792.2(MECP2):c.*7748C>T   MECP2            NaN   \n",
      "2  NM_001110792.2(MECP2):c.*5839C>T   MECP2            NaN   \n",
      "3  NM_001110792.2(MECP2):c.*5348T>C   MECP2            NaN   \n",
      "4  NM_001110792.2(MECP2):c.*4576A>C   MECP2            NaN   \n",
      "\n",
      "                 Condition(s)     Accession GRCh37Chromosome  GRCh37Location  \\\n",
      "0  not provided|Rett syndrome  VCV000143283                X       153287962   \n",
      "1               Rett syndrome  VCV000143282                X       153288070   \n",
      "2               Rett syndrome  VCV000143280                X       153289979   \n",
      "3  not provided|Rett syndrome  VCV000143275                X       153290470   \n",
      "4               Rett syndrome  VCV000143271                X       153291242   \n",
      "\n",
      "  GRCh38Chromosome  GRCh38Location  VariationID  ... Germline classification  \\\n",
      "0                X       154022511       143283  ...                  Benign   \n",
      "1                X       154022619       143282  ...                  Benign   \n",
      "2                X       154024528       143280  ...           Likely benign   \n",
      "3                X       154025019       143275  ...    Benign/Likely benign   \n",
      "4                X       154025791       143271  ...                  Benign   \n",
      "\n",
      "  Germline date last evaluated  \\\n",
      "0                 Oct 11, 2023   \n",
      "1                 Aug 14, 2023   \n",
      "2                 Aug 14, 2023   \n",
      "3                 Feb 18, 2024   \n",
      "4                 Aug 14, 2023   \n",
      "\n",
      "                              Germline review status Somatic clinical impact  \\\n",
      "0  criteria provided, multiple submitters, no con...                     NaN   \n",
      "1                criteria provided, single submitter                     NaN   \n",
      "2                criteria provided, single submitter                     NaN   \n",
      "3  criteria provided, multiple submitters, no con...                     NaN   \n",
      "4                criteria provided, single submitter                     NaN   \n",
      "\n",
      "  Somatic clinical impact date last evaluated  \\\n",
      "0                                         NaN   \n",
      "1                                         NaN   \n",
      "2                                         NaN   \n",
      "3                                         NaN   \n",
      "4                                         NaN   \n",
      "\n",
      "  Somatic clinical impact review status Oncogenicity classification  \\\n",
      "0                                   NaN                         NaN   \n",
      "1                                   NaN                         NaN   \n",
      "2                                   NaN                         NaN   \n",
      "3                                   NaN                         NaN   \n",
      "4                                   NaN                         NaN   \n",
      "\n",
      "  Oncogenicity date last evaluated  Oncogenicity review status  Unnamed: 24  \n",
      "0                              NaN                         NaN          NaN  \n",
      "1                              NaN                         NaN          NaN  \n",
      "2                              NaN                         NaN          NaN  \n",
      "3                              NaN                         NaN          NaN  \n",
      "4                              NaN                         NaN          NaN  \n",
      "\n",
      "[5 rows x 25 columns]\n"
     ]
    }
   ],
   "source": [
    "\n",
    "# Keep only rows where 'Condition(s)' contains \"Rett syndrome\" (either alone or with other conditions)\n",
    "df_res = df[df[\"Condition(s)\"].str.contains(r\"\\bRett syndrome\\b\", na=False, regex=True)]\n",
    "\n",
    "# Save the filtered dataset\n",
    "df_res.to_csv(\"filtered_variants.csv\", index=False)\n",
    "\n",
    "# Display the first few rows of the filtered dataset\n",
    "print(df_res.head())\n"
   ]
  },
  {
   "cell_type": "markdown",
   "metadata": {},
   "source": [
    "### Load CSV file into a DataFrame"
   ]
  },
  {
   "cell_type": "code",
   "execution_count": 29,
   "metadata": {},
   "outputs": [
    {
     "name": "stdout",
     "output_type": "stream",
     "text": [
      "                               Name Gene(s) Protein change  \\\n",
      "0  NM_001110792.2(MECP2):c.*7856A>C   MECP2            NaN   \n",
      "1  NM_001110792.2(MECP2):c.*7748C>T   MECP2            NaN   \n",
      "2  NM_001110792.2(MECP2):c.*5839C>T   MECP2            NaN   \n",
      "3  NM_001110792.2(MECP2):c.*5348T>C   MECP2            NaN   \n",
      "4  NM_001110792.2(MECP2):c.*4576A>C   MECP2            NaN   \n",
      "\n",
      "                 Condition(s)     Accession GRCh37Chromosome  GRCh37Location  \\\n",
      "0  not provided|Rett syndrome  VCV000143283                X       153287962   \n",
      "1               Rett syndrome  VCV000143282                X       153288070   \n",
      "2               Rett syndrome  VCV000143280                X       153289979   \n",
      "3  not provided|Rett syndrome  VCV000143275                X       153290470   \n",
      "4               Rett syndrome  VCV000143271                X       153291242   \n",
      "\n",
      "  GRCh38Chromosome  GRCh38Location  VariationID  ... Germline classification  \\\n",
      "0                X       154022511       143283  ...                  Benign   \n",
      "1                X       154022619       143282  ...                  Benign   \n",
      "2                X       154024528       143280  ...           Likely benign   \n",
      "3                X       154025019       143275  ...    Benign/Likely benign   \n",
      "4                X       154025791       143271  ...                  Benign   \n",
      "\n",
      "  Germline date last evaluated  \\\n",
      "0                 Oct 11, 2023   \n",
      "1                 Aug 14, 2023   \n",
      "2                 Aug 14, 2023   \n",
      "3                 Feb 18, 2024   \n",
      "4                 Aug 14, 2023   \n",
      "\n",
      "                              Germline review status Somatic clinical impact  \\\n",
      "0  criteria provided, multiple submitters, no con...                     NaN   \n",
      "1                criteria provided, single submitter                     NaN   \n",
      "2                criteria provided, single submitter                     NaN   \n",
      "3  criteria provided, multiple submitters, no con...                     NaN   \n",
      "4                criteria provided, single submitter                     NaN   \n",
      "\n",
      "  Somatic clinical impact date last evaluated  \\\n",
      "0                                         NaN   \n",
      "1                                         NaN   \n",
      "2                                         NaN   \n",
      "3                                         NaN   \n",
      "4                                         NaN   \n",
      "\n",
      "  Somatic clinical impact review status Oncogenicity classification  \\\n",
      "0                                   NaN                         NaN   \n",
      "1                                   NaN                         NaN   \n",
      "2                                   NaN                         NaN   \n",
      "3                                   NaN                         NaN   \n",
      "4                                   NaN                         NaN   \n",
      "\n",
      "  Oncogenicity date last evaluated  Oncogenicity review status  Unnamed: 24  \n",
      "0                              NaN                         NaN          NaN  \n",
      "1                              NaN                         NaN          NaN  \n",
      "2                              NaN                         NaN          NaN  \n",
      "3                              NaN                         NaN          NaN  \n",
      "4                              NaN                         NaN          NaN  \n",
      "\n",
      "[5 rows x 25 columns]\n"
     ]
    }
   ],
   "source": [
    "\n",
    "import requests\n",
    "\n",
    "df = pd.read_csv(\"datap/clinvar_result.csv\")\n",
    "\n",
    "# Display first 5 rows\n",
    "print(df.head())\n"
   ]
  },
  {
   "cell_type": "markdown",
   "metadata": {},
   "source": [
    "### Split Canonical SPDI into four separate columns"
   ]
  },
  {
   "cell_type": "code",
   "execution_count": 35,
   "metadata": {},
   "outputs": [
    {
     "name": "stdout",
     "output_type": "stream",
     "text": [
      "Warning: Some rows do not have all four SPDI components and will be skipped.\n",
      "✅ Canonical SPDI successfully split into separate columns.\n"
     ]
    }
   ],
   "source": [
    "if \"Canonical SPDI\" in df.columns:\n",
    "    # Split into four separate columns safely\n",
    "    spdi_split = df[\"Canonical SPDI\"].str.split(\":\", expand=True)\n",
    "    \n",
    "    # Check if all four columns exist after splitting\n",
    "    if spdi_split.shape[1] == 4:\n",
    "        df[['Sequence_ID', 'position', 'Deleted_Sequence', 'Inserted_Sequence']] = spdi_split\n",
    "    else:\n",
    "        print(\"Warning: Some rows do not have all four SPDI components and will be skipped.\")\n",
    "        df[['Sequence_ID', 'position', 'Deleted_Sequence', 'Inserted_Sequence']] = spdi_split.iloc[:, :4].fillna(\"Missing\")\n",
    "\n",
    "    # Convert Position to integer for numerical analysis\n",
    "    df[\"position\"] = pd.to_numeric(df[\"position\"], errors=\"coerce\")\n",
    "\n",
    "\n",
    "print(\"✅ Canonical SPDI successfully split into separate columns.\")\n"
   ]
  },
  {
   "cell_type": "markdown",
   "metadata": {},
   "source": [
    "### Labeling mutation types"
   ]
  },
  {
   "cell_type": "code",
   "execution_count": 36,
   "metadata": {},
   "outputs": [],
   "source": [
    "\n",
    "# Define a function to label mutation types\n",
    "def label_mutation_type(row):\n",
    "    purines = ['A', 'G']\n",
    "    pyrimidines = ['C', 'T']\n",
    "    deleted = row['Deleted_Sequence']\n",
    "    inserted = row['Inserted_Sequence']\n",
    "    \n",
    "    if (deleted in purines and inserted in purines) or (deleted in pyrimidines and inserted in pyrimidines):\n",
    "        return 'Transition'\n",
    "    elif (deleted in purines and inserted in pyrimidines) or (deleted in pyrimidines and inserted in purines):\n",
    "        return 'Transversion'\n",
    "    else:\n",
    "        return 'Unknown'\n",
    "\n",
    "# Apply the function to label each mutation\n",
    "df['Mutation_Type'] = df.apply(label_mutation_type, axis=1)\n",
    "\n"
   ]
  },
  {
   "cell_type": "markdown",
   "metadata": {},
   "source": [
    "### Combines Deleted and Inserted Sequences"
   ]
  },
  {
   "cell_type": "code",
   "execution_count": 37,
   "metadata": {},
   "outputs": [
    {
     "name": "stdout",
     "output_type": "stream",
     "text": [
      "✅ The most frequent base pair mutation is: G>A\n",
      "✅ It occurs 496 times.\n"
     ]
    }
   ],
   "source": [
    "df_new = df\n",
    "\n",
    "# Create a new column that combines Deleted and Inserted Sequences\n",
    "df_new['BP_Mutation'] = df_new['Deleted_Sequence'] + '>' + df_new['Inserted_Sequence']\n",
    "\n",
    "# Count the frequency of each base pair mutation\n",
    "bp_mutation_counts = df_new['BP_Mutation'].value_counts()\n",
    "\n",
    "# Get the highest base pair mutation\n",
    "most_frequent_bp_mutation = bp_mutation_counts.idxmax()\n",
    "most_frequent_bp_mutation_count = bp_mutation_counts.max()\n",
    "\n",
    "print(f\"✅ The most frequent base pair mutation is: {most_frequent_bp_mutation}\")\n",
    "print(f\"✅ It occurs {most_frequent_bp_mutation_count} times.\")\n"
   ]
  },
  {
   "cell_type": "code",
   "execution_count": null,
   "metadata": {},
   "outputs": [],
   "source": []
  },
  {
   "cell_type": "code",
   "execution_count": null,
   "metadata": {},
   "outputs": [],
   "source": [
    "df_variants = df_new\n",
    "def fetch_dna_sequence(position, window=50):\n",
    "    \"\"\"Fetches a DNA sequence window (±50 bp) around a variant on Chromosome X.\"\"\"\n",
    "    start = max(1, int(position) - window)\n",
    "    end = int(position) + window\n",
    "    url = f\"https://rest.ensembl.org/sequence/region/human/X:{start}..{end}?content-type=text/plain\"\n",
    "    \n",
    "    response = requests.get(url)\n",
    "    if response.status_code == 200:\n",
    "        return response.text.strip()\n",
    "    return \"N\" * (2 * window + 1)  # If request fails, return Ns\n",
    "\n",
    "# Apply function to get sequence windows (Chromosome is always 'X')\n",
    "df_variants[\"sequence_window\"] = df_variants[\"position\"].apply(\n",
    "    lambda pos: fetch_dna_sequence(pos) if pos != \"N/A\" else \"N\" * 101\n",
    ")\n",
    "\n",
    "# Replace reference allele with alternate allele at position 51\n",
    "def mutate_sequence(sequence, variant, position=50):\n",
    "    \"\"\"Replaces the reference base with the alternate allele at position 51.\"\"\"\n",
    "    return sequence[:position] + variant + sequence[position+1:]\n",
    "\n",
    "# Convert alternate alleles to strings and handle NaNs\n",
    "df_variants[\"Inserted_Sequence\"] = df_variants[\"Inserted_Sequence\"].fillna(\"N\").astype(str)\n",
    "\n",
    "# Apply function to mutate sequence\n",
    "df_variants[\"mutated_sequence\"] = df_variants.apply(\n",
    "    lambda row: mutate_sequence(row[\"sequence_window\"], row[\"Inserted_Sequence\"]) \n",
    "    if row[\"sequence_window\"] != \"N\" * 101 else row[\"sequence_window\"],\n",
    "    axis=1\n",
    ")\n",
    "\n",
    "def get_prev_alleles(sequence, position=50):\n",
    "    \"\"\"Extracts the previous allele from the sequence window.\"\"\"\n",
    "    return sequence[position - 1] if position > 0 else \"N\"\n",
    "\n",
    "def get_next_alleles(sequence, position=50):\n",
    "    \"\"\"Extracts the next allele from the sequence window.\"\"\"\n",
    "    return sequence[position + 1] if position < len(sequence) - 1 else \"N\"\n",
    "\n",
    "# Apply function to extract alleles\n",
    "df_variants[\"prev_position_allele\"] = df_variants[\"sequence_window\"].apply(get_prev_alleles)\n",
    "df_variants[\"next_position_allele\"] = df_variants[\"sequence_window\"].apply(get_next_alleles)\n"
   ]
  },
  {
   "cell_type": "code",
   "execution_count": null,
   "metadata": {},
   "outputs": [
    {
     "name": "stdout",
     "output_type": "stream",
     "text": [
      "✅ Unwanted columns dropped successfully.\n",
      "                               Name Gene(s) Protein change  \\\n",
      "0  NM_001110792.2(MECP2):c.*7856A>C   MECP2            NaN   \n",
      "1  NM_001110792.2(MECP2):c.*7748C>T   MECP2            NaN   \n",
      "2  NM_001110792.2(MECP2):c.*5839C>T   MECP2            NaN   \n",
      "3  NM_001110792.2(MECP2):c.*5348T>C   MECP2            NaN   \n",
      "4  NM_001110792.2(MECP2):c.*4576A>C   MECP2            NaN   \n",
      "\n",
      "                 Condition(s)     Accession GRCh37Chromosome  GRCh37Location  \\\n",
      "0  not provided|Rett syndrome  VCV000143283                X       153287962   \n",
      "1               Rett syndrome  VCV000143282                X       153288070   \n",
      "2               Rett syndrome  VCV000143280                X       153289979   \n",
      "3  not provided|Rett syndrome  VCV000143275                X       153290470   \n",
      "4               Rett syndrome  VCV000143271                X       153291242   \n",
      "\n",
      "  GRCh38Chromosome  GRCh38Location  VariationID  ...  \\\n",
      "0                X       154022511       143283  ...   \n",
      "1                X       154022619       143282  ...   \n",
      "2                X       154024528       143280  ...   \n",
      "3                X       154025019       143275  ...   \n",
      "4                X       154025791       143271  ...   \n",
      "\n",
      "               Canonical SPDI               Variant type  \\\n",
      "0  NC_000023.11:154022510:T:G  single nucleotide variant   \n",
      "1  NC_000023.11:154022618:G:A  single nucleotide variant   \n",
      "2  NC_000023.11:154024527:G:A  single nucleotide variant   \n",
      "3  NC_000023.11:154025018:A:G  single nucleotide variant   \n",
      "4  NC_000023.11:154025790:T:G  single nucleotide variant   \n",
      "\n",
      "  Molecular consequence Germline classification   Sequence_ID   position  \\\n",
      "0   3 prime UTR variant                  Benign  NC_000023.11  154022510   \n",
      "1   3 prime UTR variant                  Benign  NC_000023.11  154022618   \n",
      "2   3 prime UTR variant           Likely benign  NC_000023.11  154024527   \n",
      "3   3 prime UTR variant    Benign/Likely benign  NC_000023.11  154025018   \n",
      "4   3 prime UTR variant                  Benign  NC_000023.11  154025790   \n",
      "\n",
      "  Deleted_Sequence  Inserted_Sequence Mutation_Type BP_Mutation  \n",
      "0                T                  G  Transversion         T>G  \n",
      "1                G                  A    Transition         G>A  \n",
      "2                G                  A    Transition         G>A  \n",
      "3                A                  G    Transition         A>G  \n",
      "4                T                  G  Transversion         T>G  \n",
      "\n",
      "[5 rows x 22 columns]\n"
     ]
    }
   ],
   "source": [
    "# List of columns to drop\n",
    "columns_to_drop = [\n",
    "    'Germline date last evaluated', \n",
    "    'Germline review status',\n",
    "    'Somatic clinical impact',\n",
    "    'Somatic clinical impact date last evaluated',\n",
    "    'Somatic clinical impact review status', \n",
    "    'Oncogenicity classification',\n",
    "    'Oncogenicity date last evaluated', \n",
    "    'Oncogenicity review status',\n",
    "    'Unnamed: 24'\n",
    "]\n",
    "\n",
    "# Drop the columns\n",
    "df_variants.drop(columns=columns_to_drop, inplace=True, errors='ignore')\n",
    "\n",
    "# Display the updated dataframe\n",
    "print(\"✅ Unwanted columns dropped successfully.\")\n",
    "print(df.head())\n"
   ]
  },
  {
   "cell_type": "code",
   "execution_count": null,
   "metadata": {},
   "outputs": [],
   "source": [
    "df_variants.to_csv('data/clinvar_result(9)_labeled.csv', index=False)\n",
    "print(\"✅ Mutation type labeling complete. Saved to 'data/clinvar_result(9)_labeled.csv'\")\n"
   ]
  }
 ],
 "metadata": {
  "kernelspec": {
   "display_name": "base",
   "language": "python",
   "name": "python3"
  },
  "language_info": {
   "codemirror_mode": {
    "name": "ipython",
    "version": 3
   },
   "file_extension": ".py",
   "mimetype": "text/x-python",
   "name": "python",
   "nbconvert_exporter": "python",
   "pygments_lexer": "ipython3",
   "version": "3.12.3"
  }
 },
 "nbformat": 4,
 "nbformat_minor": 2
}
