{
 "cells": [
  {
   "cell_type": "code",
   "execution_count": 1,
   "id": "46ddd886",
   "metadata": {},
   "outputs": [],
   "source": [
    "import pandas as pd\n",
    "import numpy as np\n",
    "\n",
    "# Load preprocessed data\n",
    "df = pd.read_csv('data/prep_clinvar_result.csv')"
   ]
  },
  {
   "cell_type": "code",
   "execution_count": 2,
   "id": "682c4f52",
   "metadata": {},
   "outputs": [
    {
     "name": "stdout",
     "output_type": "stream",
     "text": [
      "Index(['Name', 'Gene(s)', 'Protein change', 'Condition(s)', 'Accession',\n",
      "       'GRCh37Chromosome', 'GRCh37Location', 'GRCh38Chromosome',\n",
      "       'GRCh38Location', 'VariationID', 'AlleleID(s)', 'dbSNP ID',\n",
      "       'Canonical SPDI', 'Variant type', 'Molecular consequence',\n",
      "       'Germline classification', 'Germline date last evaluated',\n",
      "       'Germline review status', 'Somatic clinical impact',\n",
      "       'Somatic clinical impact date last evaluated',\n",
      "       'Somatic clinical impact review status', 'Oncogenicity classification',\n",
      "       'Oncogenicity date last evaluated', 'Oncogenicity review status',\n",
      "       'Unnamed: 24', 'Sequence_ID', 'position', 'Deleted_Sequence',\n",
      "       'Inserted_Sequence', 'sequence_window', 'mutated_sequence',\n",
      "       'prev_position_allele', 'next_position_allele', 'aligned_ref',\n",
      "       'aligned_alt', 'alignment_score', 'mc_synonymous_variant',\n",
      "       'mc_frameshift_variant', 'mc_3_prime_UTR_variant',\n",
      "       'mc_5_prime_UTR_variant', 'mc_splice_donor_variant',\n",
      "       'mc_splice_acceptor_variant', 'mc_nonsense', 'mc_intron_variant',\n",
      "       'mc_missense_variant', 'mc_stop_lost', 'region', 'donor_distance',\n",
      "       'acceptor_distance', 'dist_to_exon_start', 'dist_to_exon_end',\n",
      "       'nearest_splice_type', 'mutated_sequence_fixed',\n",
      "       'sequence_window_fixed', 'label'],\n",
      "      dtype='object')\n"
     ]
    }
   ],
   "source": [
    "print( df.columns)"
   ]
  },
  {
   "cell_type": "code",
   "execution_count": 3,
   "id": "a0590b08",
   "metadata": {},
   "outputs": [],
   "source": [
    "region_encoded = pd.get_dummies(df['region'], prefix='region')\n",
    "df = pd.concat([df, region_encoded], axis=1)\n",
    "df.drop(columns=['region'], inplace=True)"
   ]
  },
  {
   "cell_type": "code",
   "execution_count": 4,
   "id": "ba9c1726",
   "metadata": {},
   "outputs": [],
   "source": [
    "splice_type_encoded = pd.get_dummies(df['nearest_splice_type'], prefix='splice_type')\n",
    "df = pd.concat([df, splice_type_encoded], axis=1)\n",
    "df.drop(columns=['nearest_splice_type'], inplace=True)\n"
   ]
  },
  {
   "cell_type": "code",
   "execution_count": 5,
   "id": "2788540a",
   "metadata": {},
   "outputs": [],
   "source": [
    "label_mapping = {\n",
    "    \"Duplication\": 3, \n",
    "    \"Deletion\": 1,\n",
    "    \"single nucleotide variant\": 0,\n",
    "    \"Insertion\": 2, \n",
    "    \"Indel\": 4\n",
    "}\n",
    "df[\"type\"] = df[\"Variant type\"].map(label_mapping).fillna(-1)\n",
    "df = df[df[\"type\"] != -1].copy()\n",
    "df.drop(columns=['Variant type'], inplace=True)\n",
    "\n"
   ]
  },
  {
   "cell_type": "code",
   "execution_count": 6,
   "id": "977b6251",
   "metadata": {},
   "outputs": [],
   "source": [
    "prev_encoded = pd.get_dummies(df['prev_position_allele'], prefix='prev')\n",
    "next_encoded = pd.get_dummies(df['next_position_allele'], prefix='next')\n",
    "df = pd.concat([df, prev_encoded, next_encoded], axis=1)\n",
    "df.drop(['prev_position_allele', 'next_position_allele'], axis=1, inplace=True)"
   ]
  },
  {
   "cell_type": "code",
   "execution_count": 7,
   "id": "0b1278b9",
   "metadata": {},
   "outputs": [],
   "source": [
    "def calculate_gc_content(seq):\n",
    "    seq = seq.upper()\n",
    "    gc_count = seq.count('G') + seq.count('C')\n",
    "    total = len(seq.replace('N', ''))\n",
    "    return gc_count / total if total > 0 else 0\n",
    "\n",
    "def calculate_gc_skew(seq):\n",
    "    seq = seq.upper()\n",
    "    g = seq.count('G')\n",
    "    c = seq.count('C')\n",
    "    return (g - c) / (g + c) if (g + c) > 0 else 0\n",
    "\n",
    "df['gc_content'] = df['mutated_sequence_fixed'].apply(calculate_gc_content)\n",
    "df['gc_skew'] = df['mutated_sequence_fixed'].apply(calculate_gc_skew)\n"
   ]
  },
  {
   "cell_type": "code",
   "execution_count": 8,
   "id": "cb69810e",
   "metadata": {},
   "outputs": [],
   "source": [
    "def calculate_at_content(seq):\n",
    "    seq = seq.upper()\n",
    "    at_count = seq.count('A') + seq.count('T')\n",
    "    total = len(seq.replace('N', ''))\n",
    "    return at_count / total if total > 0 else 0\n",
    "\n",
    "df['at_content'] = df['mutated_sequence_fixed'].apply(calculate_at_content)\n"
   ]
  },
  {
   "cell_type": "code",
   "execution_count": 9,
   "id": "43b236bd",
   "metadata": {},
   "outputs": [],
   "source": [
    "MAX_CHR_X_POS = 156040895\n",
    "df['position_bin'] = df['position'] / MAX_CHR_X_POS\n",
    "df['position_decile'] = pd.qcut(df['position_bin'], 10, labels=False)\n"
   ]
  },
  {
   "cell_type": "code",
   "execution_count": 11,
   "id": "e439eae5",
   "metadata": {},
   "outputs": [],
   "source": [
    "df[['donor_distance', 'acceptor_distance', 'dist_to_exon_start', 'dist_to_exon_end']] = \\\n",
    "    df[['donor_distance', 'acceptor_distance', 'dist_to_exon_start', 'dist_to_exon_end']].fillna(-1)\n"
   ]
  },
  {
   "cell_type": "code",
   "execution_count": 12,
   "id": "c1da864f",
   "metadata": {},
   "outputs": [],
   "source": [
    "df['chr'] = 'chrX'\n",
    "chr_encoded = pd.get_dummies(df['chr'], prefix='chr')\n",
    "df = pd.concat([df, chr_encoded], axis=1)\n",
    "df.drop(columns=['chr'], inplace=True)"
   ]
  },
  {
   "cell_type": "code",
   "execution_count": 13,
   "id": "1697073b",
   "metadata": {},
   "outputs": [
    {
     "data": {
      "text/plain": [
       "Name                object\n",
       "Gene(s)             object\n",
       "Protein change      object\n",
       "Condition(s)        object\n",
       "Accession           object\n",
       "                    ...   \n",
       "gc_skew            float64\n",
       "at_content         float64\n",
       "position_bin       float64\n",
       "position_decile      int64\n",
       "chr_chrX              bool\n",
       "Length: 69, dtype: object"
      ]
     },
     "execution_count": 13,
     "metadata": {},
     "output_type": "execute_result"
    }
   ],
   "source": [
    "df.dtypes"
   ]
  },
  {
   "cell_type": "code",
   "execution_count": 14,
   "id": "22dd4059",
   "metadata": {},
   "outputs": [],
   "source": [
    "# === 11. Optional: Flag Known Hotspot Positions (Example Placeholder) ===\n",
    "# Placeholder for known MECP2 pathogenic hotspots (replace with real positions if known)\n",
    "known_hotspots = [153296543, 153296544, 153296545]  # Example positions\n",
    "df['hotspot_flag'] = df['position'].apply(lambda x: 1 if x in known_hotspots else 0)\n"
   ]
  },
  {
   "cell_type": "code",
   "execution_count": 15,
   "id": "822ab997",
   "metadata": {},
   "outputs": [],
   "source": [
    "# === 12. Optional: CpG Site Overlap (Example Placeholder) ===\n",
    "# Assuming you have a CpG position list (replace with actual CpG island data if available)\n",
    "cpg_sites = [153296540, 153296541, 153296542]  # Example positions\n",
    "df['cpg_overlap'] = df['position'].apply(lambda x: 1 if x in cpg_sites else 0)\n"
   ]
  },
  {
   "cell_type": "code",
   "execution_count": 20,
   "id": "b8ffc3e0",
   "metadata": {},
   "outputs": [],
   "source": [
    "# === 13. Drop Non-ML Columns (Sequence Strings, IDs, etc) ===\n",
    "drop_cols = [\n",
    "    'Name', 'Gene(s)', 'Protein change', 'Condition(s)', 'Accession',\n",
    "    'GRCh37Chromosome', 'GRCh37Location', 'GRCh38Chromosome', 'GRCh38Location',\n",
    "    'VariationID', 'AlleleID(s)', 'dbSNP ID', 'Canonical SPDI',\n",
    "    'Germline date last evaluated', 'Somatic clinical impact',\n",
    "    'Somatic clinical impact date last evaluated', 'Somatic clinical impact review status',\n",
    "    'Oncogenicity classification', 'Oncogenicity date last evaluated', 'Oncogenicity review status',\n",
    "    'Unnamed: 24', 'Sequence_ID', 'sequence_window', 'mutated_sequence',\n",
    "    'aligned_ref', 'aligned_alt', 'Deleted_Sequence', 'Molecular consequence', 'Germline classification',\n",
    "    'Germline review status', 'sequence_window_fixed','Inserted_Sequence', 'mutated_sequence_fixed'\n",
    "]\n",
    "df = df.drop(columns=[col for col in drop_cols if col in df.columns])\n"
   ]
  },
  {
   "cell_type": "code",
   "execution_count": 21,
   "id": "cf41fb06",
   "metadata": {},
   "outputs": [
    {
     "data": {
      "text/plain": [
       "position                        int64\n",
       "alignment_score                 int64\n",
       "mc_synonymous_variant           int64\n",
       "mc_frameshift_variant           int64\n",
       "mc_3_prime_UTR_variant          int64\n",
       "mc_5_prime_UTR_variant          int64\n",
       "mc_splice_donor_variant         int64\n",
       "mc_splice_acceptor_variant      int64\n",
       "mc_nonsense                     int64\n",
       "mc_intron_variant               int64\n",
       "mc_missense_variant             int64\n",
       "mc_stop_lost                    int64\n",
       "donor_distance                  int64\n",
       "acceptor_distance               int64\n",
       "dist_to_exon_start            float64\n",
       "dist_to_exon_end              float64\n",
       "label                           int64\n",
       "region_exon                      bool\n",
       "region_non-exon                  bool\n",
       "splice_type_acceptor             bool\n",
       "splice_type_donor                bool\n",
       "type                            int64\n",
       "prev_A                           bool\n",
       "prev_C                           bool\n",
       "prev_G                           bool\n",
       "prev_T                           bool\n",
       "next_A                           bool\n",
       "next_C                           bool\n",
       "next_G                           bool\n",
       "next_T                           bool\n",
       "gc_content                    float64\n",
       "gc_skew                       float64\n",
       "at_content                    float64\n",
       "position_bin                  float64\n",
       "position_decile                 int64\n",
       "chr_chrX                         bool\n",
       "hotspot_flag                    int64\n",
       "cpg_overlap                     int64\n",
       "dtype: object"
      ]
     },
     "execution_count": 21,
     "metadata": {},
     "output_type": "execute_result"
    }
   ],
   "source": [
    "df.dtypes"
   ]
  },
  {
   "cell_type": "code",
   "execution_count": 22,
   "id": "4594c1db",
   "metadata": {},
   "outputs": [
    {
     "name": "stdout",
     "output_type": "stream",
     "text": [
      "✅ Final feature columns: Index(['position', 'alignment_score', 'mc_synonymous_variant',\n",
      "       'mc_frameshift_variant', 'mc_3_prime_UTR_variant',\n",
      "       'mc_5_prime_UTR_variant', 'mc_splice_donor_variant',\n",
      "       'mc_splice_acceptor_variant', 'mc_nonsense', 'mc_intron_variant',\n",
      "       'mc_missense_variant', 'mc_stop_lost', 'donor_distance',\n",
      "       'acceptor_distance', 'dist_to_exon_start', 'dist_to_exon_end', 'label',\n",
      "       'region_exon', 'region_non-exon', 'splice_type_acceptor',\n",
      "       'splice_type_donor', 'type', 'prev_A', 'prev_C', 'prev_G', 'prev_T',\n",
      "       'next_A', 'next_C', 'next_G', 'next_T', 'gc_content', 'gc_skew',\n",
      "       'at_content', 'position_bin', 'position_decile', 'chr_chrX',\n",
      "       'hotspot_flag', 'cpg_overlap'],\n",
      "      dtype='object')\n",
      "✅ Data shape: (1215, 38)\n"
     ]
    }
   ],
   "source": [
    "# === 14. Final Check ===\n",
    "print(\"✅ Final feature columns:\", df.columns)\n",
    "print(\"✅ Data shape:\", df.shape)"
   ]
  },
  {
   "cell_type": "code",
   "execution_count": 23,
   "id": "247f995c",
   "metadata": {},
   "outputs": [
    {
     "name": "stdout",
     "output_type": "stream",
     "text": [
      "✅ Feature extraction complete. Shape: (1215, 38)\n"
     ]
    }
   ],
   "source": [
    "df.to_csv('data/featured_clinvar_result.csv', index=False)\n",
    "print(\"✅ Feature extraction complete. Shape:\", df.shape)"
   ]
  },
  {
   "cell_type": "code",
   "execution_count": null,
   "id": "116eae89",
   "metadata": {},
   "outputs": [],
   "source": []
  }
 ],
 "metadata": {
  "kernelspec": {
   "display_name": "base",
   "language": "python",
   "name": "python3"
  },
  "language_info": {
   "codemirror_mode": {
    "name": "ipython",
    "version": 3
   },
   "file_extension": ".py",
   "mimetype": "text/x-python",
   "name": "python",
   "nbconvert_exporter": "python",
   "pygments_lexer": "ipython3",
   "version": "3.12.3"
  }
 },
 "nbformat": 4,
 "nbformat_minor": 5
}
