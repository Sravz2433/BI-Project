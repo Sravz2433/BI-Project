{
 "cells": [
  {
   "cell_type": "code",
   "execution_count": 71,
   "id": "88bafe90",
   "metadata": {},
   "outputs": [
    {
     "name": "stdout",
     "output_type": "stream",
     "text": [
      "Index(['chr', 'source', 'feature', 'start', 'end', 'score', 'strand', 'frame',\n",
      "       'attribute'],\n",
      "      dtype='object')\n"
     ]
    }
   ],
   "source": [
    "import pandas as pd\n",
    "\n",
    "gtf_file = \"Homo_sapiens.GRCh38.109.gtf\"\n",
    "gtf = pd.read_csv(gtf_file, sep='\\t', comment='#', header=None)\n",
    "gtf.columns = ['chr', 'source', 'feature', 'start', 'end', 'score', 'strand', 'frame', 'attribute']\n",
    "print(gtf.columns)\n"
   ]
  },
  {
   "cell_type": "code",
   "execution_count": 72,
   "id": "eb7e4e28",
   "metadata": {},
   "outputs": [
    {
     "name": "stdout",
     "output_type": "stream",
     "text": [
      "    chr  source     feature  start    end score strand frame  \\\n",
      "0  chr1  HAVANA        gene  11121  24894     .      +     .   \n",
      "1  chr1  HAVANA  transcript  11121  14413     .      +     .   \n",
      "2  chr1  HAVANA        exon  11121  11211     .      +     .   \n",
      "3  chr1  HAVANA        exon  12010  12227     .      +     .   \n",
      "4  chr1  HAVANA        exon  12613  12721     .      +     .   \n",
      "\n",
      "                                           attribute  \n",
      "0  gene_id \"ENSG00000290825.2\"; gene_type \"lncRNA...  \n",
      "1  gene_id \"ENSG00000290825.2\"; transcript_id \"EN...  \n",
      "2  gene_id \"ENSG00000290825.2\"; transcript_id \"EN...  \n",
      "3  gene_id \"ENSG00000290825.2\"; transcript_id \"EN...  \n",
      "4  gene_id \"ENSG00000290825.2\"; transcript_id \"EN...  \n"
     ]
    }
   ],
   "source": [
    "print(gtf.head())"
   ]
  },
  {
   "cell_type": "code",
   "execution_count": 73,
   "id": "27177d7c",
   "metadata": {},
   "outputs": [],
   "source": [
    "exons = gtf[(gtf['feature'] == 'exon') & (gtf['chr'] == 'chrX')]\n"
   ]
  },
  {
   "cell_type": "code",
   "execution_count": 74,
   "id": "b0fe72e0",
   "metadata": {},
   "outputs": [],
   "source": [
    "splice_sites = []\n",
    "\n",
    "for _, row in exons.iterrows():\n",
    "    splice_sites.append({'chr': row['chr'], 'position': row['end'], 'site_type': 'donor'})\n",
    "    splice_sites.append({'chr': row['chr'], 'position': row['start'], 'site_type': 'acceptor'})\n",
    "\n",
    "splice_df = pd.DataFrame(splice_sites)\n"
   ]
  },
  {
   "cell_type": "code",
   "execution_count": 75,
   "id": "7f1271a7",
   "metadata": {},
   "outputs": [
    {
     "name": "stdout",
     "output_type": "stream",
     "text": [
      "Index(['chr', 'position', 'site_type'], dtype='object')\n"
     ]
    }
   ],
   "source": [
    "print(splice_df.columns)\n"
   ]
  },
  {
   "cell_type": "code",
   "execution_count": 76,
   "id": "b5b2da7f",
   "metadata": {},
   "outputs": [],
   "source": [
    "file='data/aligned_clinvar_result.csv'\n",
    "\n",
    "df_variants= pd.read_csv(file)"
   ]
  },
  {
   "cell_type": "code",
   "execution_count": 77,
   "id": "5233760f",
   "metadata": {},
   "outputs": [],
   "source": [
    "def nearest_splice_distance(pos, splice_positions):\n",
    "    return min([abs(pos - sp) for sp in splice_positions])\n",
    "\n",
    "# Splice positions on Chr X\n",
    "splice_positions = splice_df['position'].tolist()\n",
    "\n",
    "\n",
    "df_variants['splice_distance'] = df_variants['position'].apply(\n",
    "    lambda pos: nearest_splice_distance(int(pos), splice_positions)\n",
    ")\n",
    "\n"
   ]
  },
  {
   "cell_type": "code",
   "execution_count": 78,
   "id": "96052e49",
   "metadata": {},
   "outputs": [
    {
     "name": "stdout",
     "output_type": "stream",
     "text": [
      "Index(['Name', 'Gene(s)', 'Protein change', 'Condition(s)', 'Accession',\n",
      "       'GRCh37Chromosome', 'GRCh37Location', 'GRCh38Chromosome',\n",
      "       'GRCh38Location', 'VariationID', 'AlleleID(s)', 'dbSNP ID',\n",
      "       'Canonical SPDI', 'Variant type', 'Molecular consequence',\n",
      "       'Germline classification', 'Germline date last evaluated',\n",
      "       'Germline review status', 'Somatic clinical impact',\n",
      "       'Somatic clinical impact date last evaluated',\n",
      "       'Somatic clinical impact review status', 'Oncogenicity classification',\n",
      "       'Oncogenicity date last evaluated', 'Oncogenicity review status',\n",
      "       'Unnamed: 24', 'Sequence_ID', 'position', 'Deleted_Sequence',\n",
      "       'Inserted_Sequence', 'sequence_window', 'mutated_sequence',\n",
      "       'prev_position_allele', 'next_position_allele', 'aligned_ref',\n",
      "       'aligned_alt', 'alignment_score', 'mc_synonymous_variant',\n",
      "       'mc_3_prime_UTR_variant', 'mc_5_prime_UTR_variant',\n",
      "       'mc_splice_donor_variant', 'mc_splice_acceptor_variant', 'mc_nonsense',\n",
      "       'mc_intron_variant', 'mc_missense_variant', 'mc_stop_lost',\n",
      "       'splice_distance'],\n",
      "      dtype='object')\n",
      "                               Name Gene(s) Protein change  \\\n",
      "0  NM_001110792.2(MECP2):c.*8503dup   MECP2            NaN   \n",
      "1  NM_001110792.2(MECP2):c.*8503del   MECP2            NaN   \n",
      "2  NM_001110792.2(MECP2):c.*7856A>C   MECP2            NaN   \n",
      "3  NM_001110792.2(MECP2):c.*7748C>T   MECP2            NaN   \n",
      "4  NM_001110792.2(MECP2):c.*5839C>T   MECP2            NaN   \n",
      "\n",
      "                 Condition(s)     Accession GRCh37Chromosome  \\\n",
      "0               Rett syndrome  VCV000143289                X   \n",
      "1               Rett syndrome  VCV000143288                X   \n",
      "2  not provided|Rett syndrome  VCV000143283                X   \n",
      "3               Rett syndrome  VCV000143282                X   \n",
      "4               Rett syndrome  VCV000143280                X   \n",
      "\n",
      "          GRCh37Location GRCh38Chromosome         GRCh38Location  VariationID  \\\n",
      "0  153287314 - 153287315                X  154021863 - 154021864       143289   \n",
      "1              153287315                X              154021864       143288   \n",
      "2              153287962                X              154022511       143283   \n",
      "3              153288070                X              154022619       143282   \n",
      "4              153289979                X              154024528       143280   \n",
      "\n",
      "   ...  mc_synonymous_variant mc_3_prime_UTR_variant mc_5_prime_UTR_variant  \\\n",
      "0  ...                      0                      1                      0   \n",
      "1  ...                      0                      1                      0   \n",
      "2  ...                      0                      1                      0   \n",
      "3  ...                      0                      1                      0   \n",
      "4  ...                      0                      1                      0   \n",
      "\n",
      "  mc_splice_donor_variant mc_splice_acceptor_variant mc_nonsense  \\\n",
      "0                       0                          0           0   \n",
      "1                       0                          0           0   \n",
      "2                       0                          0           0   \n",
      "3                       0                          0           0   \n",
      "4                       0                          0           0   \n",
      "\n",
      "  mc_intron_variant mc_missense_variant  mc_stop_lost  splice_distance  \n",
      "0                 0                   0             0              290  \n",
      "1                 0                   0             0              290  \n",
      "2                 0                   0             0              937  \n",
      "3                 0                   0             0             1045  \n",
      "4                 0                   0             0             2954  \n",
      "\n",
      "[5 rows x 46 columns]\n"
     ]
    }
   ],
   "source": [
    "print(df_variants.columns)\n",
    "print(df_variants.head())"
   ]
  },
  {
   "cell_type": "code",
   "execution_count": 79,
   "id": "0806b7b0",
   "metadata": {},
   "outputs": [
    {
     "data": {
      "text/plain": [
       "mutated_sequence\n",
       "101    897\n",
       "102     79\n",
       "103     66\n",
       "100     59\n",
       "104     30\n",
       "105     22\n",
       "106     14\n",
       "107      8\n",
       "109      8\n",
       "110      5\n",
       "111      4\n",
       "116      4\n",
       "108      3\n",
       "131      3\n",
       "121      2\n",
       "119      1\n",
       "112      1\n",
       "150      1\n",
       "151      1\n",
       "114      1\n",
       "118      1\n",
       "117      1\n",
       "115      1\n",
       "137      1\n",
       "143      1\n",
       "127      1\n",
       "Name: count, dtype: int64"
      ]
     },
     "execution_count": 79,
     "metadata": {},
     "output_type": "execute_result"
    }
   ],
   "source": [
    "df_variants['mutated_sequence'].str.len().value_counts()\n"
   ]
  },
  {
   "cell_type": "code",
   "execution_count": 80,
   "id": "616a2402",
   "metadata": {},
   "outputs": [],
   "source": [
    "df=df_variants"
   ]
  },
  {
   "cell_type": "code",
   "execution_count": 81,
   "id": "e361116a",
   "metadata": {},
   "outputs": [],
   "source": [
    "DESIRED_LENGTH = 101\n",
    "\n",
    "def fix_length(seq, desired_len=DESIRED_LENGTH):\n",
    "    seq = seq.upper()\n",
    "    if len(seq) >= desired_len:\n",
    "        return seq[:desired_len]\n",
    "    else:\n",
    "        padding = 'N' * (desired_len - len(seq))\n",
    "        return seq + padding\n",
    "\n",
    "df['mutated_sequence_fixed'] = df['mutated_sequence'].apply(fix_length)\n"
   ]
  },
  {
   "cell_type": "code",
   "execution_count": 82,
   "id": "2be558b0",
   "metadata": {},
   "outputs": [],
   "source": [
    "from tensorflow.keras.utils import to_categorical\n",
    "import numpy as np\n",
    "\n",
    "base_map = {'A': 0, 'C': 1, 'G': 2, 'T': 3, 'N': 4}\n",
    "NUM_BASES = len(base_map)\n",
    "\n",
    "def one_hot_encode(seq):\n",
    "    encoded = [base_map.get(base, 4) for base in seq]\n",
    "    return to_categorical(encoded, num_classes=NUM_BASES)\n",
    "\n",
    "# Apply to fixed-length sequences\n",
    "encoded_sequences = np.array(\n",
    "    df['mutated_sequence_fixed'].apply(one_hot_encode).tolist()\n",
    ")\n"
   ]
  },
  {
   "cell_type": "code",
   "execution_count": 83,
   "id": "f97fe401",
   "metadata": {},
   "outputs": [
    {
     "data": {
      "text/plain": [
       "(1215, 101, 5)"
      ]
     },
     "execution_count": 83,
     "metadata": {},
     "output_type": "execute_result"
    }
   ],
   "source": [
    "encoded_sequences.shape\n"
   ]
  },
  {
   "cell_type": "code",
   "execution_count": 84,
   "id": "5cef4211",
   "metadata": {},
   "outputs": [],
   "source": [
    "label_cols = [col for col in df.columns if col.startswith('mc_')]\n",
    "\n",
    "# Make sure they’re all integers (0/1)\n",
    "df[label_cols] = df[label_cols].fillna(0).astype(int)\n",
    "\n",
    "# Final label matrix\n",
    "Y = df[label_cols].values\n"
   ]
  },
  {
   "cell_type": "code",
   "execution_count": 85,
   "id": "61e4c9a2",
   "metadata": {},
   "outputs": [
    {
     "data": {
      "text/plain": [
       "array(['Benign', 'Likely benign', 'Benign/Likely benign',\n",
       "       'Likely pathogenic', 'Pathogenic', 'Pathogenic/Likely pathogenic'],\n",
       "      dtype=object)"
      ]
     },
     "execution_count": 85,
     "metadata": {},
     "output_type": "execute_result"
    }
   ],
   "source": [
    "df['Germline classification'].unique()\n"
   ]
  },
  {
   "cell_type": "code",
   "execution_count": 86,
   "id": "e490aa74",
   "metadata": {},
   "outputs": [
    {
     "name": "stdout",
     "output_type": "stream",
     "text": [
      "                               Name Gene(s) Protein change  \\\n",
      "0  NM_001110792.2(MECP2):c.*8503dup   MECP2            NaN   \n",
      "1  NM_001110792.2(MECP2):c.*8503del   MECP2            NaN   \n",
      "2  NM_001110792.2(MECP2):c.*7856A>C   MECP2            NaN   \n",
      "3  NM_001110792.2(MECP2):c.*7748C>T   MECP2            NaN   \n",
      "4  NM_001110792.2(MECP2):c.*5839C>T   MECP2            NaN   \n",
      "\n",
      "                 Condition(s)     Accession GRCh37Chromosome  \\\n",
      "0               Rett syndrome  VCV000143289                X   \n",
      "1               Rett syndrome  VCV000143288                X   \n",
      "2  not provided|Rett syndrome  VCV000143283                X   \n",
      "3               Rett syndrome  VCV000143282                X   \n",
      "4               Rett syndrome  VCV000143280                X   \n",
      "\n",
      "          GRCh37Location GRCh38Chromosome         GRCh38Location  VariationID  \\\n",
      "0  153287314 - 153287315                X  154021863 - 154021864       143289   \n",
      "1              153287315                X              154021864       143288   \n",
      "2              153287962                X              154022511       143283   \n",
      "3              153288070                X              154022619       143282   \n",
      "4              153289979                X              154024528       143280   \n",
      "\n",
      "   ...  mc_5_prime_UTR_variant mc_splice_donor_variant  \\\n",
      "0  ...                       0                       0   \n",
      "1  ...                       0                       0   \n",
      "2  ...                       0                       0   \n",
      "3  ...                       0                       0   \n",
      "4  ...                       0                       0   \n",
      "\n",
      "  mc_splice_acceptor_variant mc_nonsense mc_intron_variant  \\\n",
      "0                          0           0                 0   \n",
      "1                          0           0                 0   \n",
      "2                          0           0                 0   \n",
      "3                          0           0                 0   \n",
      "4                          0           0                 0   \n",
      "\n",
      "  mc_missense_variant mc_stop_lost  splice_distance  \\\n",
      "0                   0            0              290   \n",
      "1                   0            0              290   \n",
      "2                   0            0              937   \n",
      "3                   0            0             1045   \n",
      "4                   0            0             2954   \n",
      "\n",
      "                              mutated_sequence_fixed  label  \n",
      "0  AAATTTATAAGGCAAACTCTTTATATAATAAATAGGTTACAGGGAT...      0  \n",
      "1  AAATTTATAAGGCAAACTCTTTATATAATAAATAGGTTACAGGGAT...      0  \n",
      "2  AGATGTTTTCGCCATGGAATGGGAAGGGGTTTTCTCACATCTAAGT...      0  \n",
      "3  CTGGGAAGGGGAGGGTGGGGAATAGAGATGTCACAGTGTTGAGCCC...      0  \n",
      "4  GACTCCAGCTCCCAGAGGTGGAAGGCGACCAGGCTGTGCCGACTAC...      0  \n",
      "\n",
      "[5 rows x 47 columns]\n"
     ]
    }
   ],
   "source": [
    "label_mapping = {\n",
    "    \"Pathogenic\": 1, \n",
    "    \"Likely pathogenic\": 1,\n",
    "    \"Pathogenic/Likely pathogenic\": 1,\n",
    "    \"Benign\": 0, \n",
    "    \"Likely benign\": 0,\n",
    "    \"Benign/Likely benign\": 0\n",
    "}\n",
    "\n",
    "df[\"label\"] = df[\"Germline classification\"].map(label_mapping).fillna(-1)  \n",
    "\n",
    "df_variants = df[df[\"label\"] != -1].copy()\n",
    "\n",
    "df_variants.drop(columns=['Germline classification'], inplace=True)\n",
    "\n",
    "# Display first few rows\n",
    "print(df_variants.head())\n"
   ]
  },
  {
   "cell_type": "code",
   "execution_count": 87,
   "id": "67918bff",
   "metadata": {},
   "outputs": [
    {
     "name": "stdout",
     "output_type": "stream",
     "text": [
      "Index(['Name', 'Gene(s)', 'Protein change', 'Condition(s)', 'Accession',\n",
      "       'GRCh37Chromosome', 'GRCh37Location', 'GRCh38Chromosome',\n",
      "       'GRCh38Location', 'VariationID', 'AlleleID(s)', 'dbSNP ID',\n",
      "       'Canonical SPDI', 'Variant type', 'Molecular consequence',\n",
      "       'Germline classification', 'Germline date last evaluated',\n",
      "       'Germline review status', 'Somatic clinical impact',\n",
      "       'Somatic clinical impact date last evaluated',\n",
      "       'Somatic clinical impact review status', 'Oncogenicity classification',\n",
      "       'Oncogenicity date last evaluated', 'Oncogenicity review status',\n",
      "       'Unnamed: 24', 'Sequence_ID', 'position', 'Deleted_Sequence',\n",
      "       'Inserted_Sequence', 'sequence_window', 'mutated_sequence',\n",
      "       'prev_position_allele', 'next_position_allele', 'aligned_ref',\n",
      "       'aligned_alt', 'alignment_score', 'mc_synonymous_variant',\n",
      "       'mc_3_prime_UTR_variant', 'mc_5_prime_UTR_variant',\n",
      "       'mc_splice_donor_variant', 'mc_splice_acceptor_variant', 'mc_nonsense',\n",
      "       'mc_intron_variant', 'mc_missense_variant', 'mc_stop_lost',\n",
      "       'splice_distance', 'mutated_sequence_fixed', 'label'],\n",
      "      dtype='object')\n"
     ]
    }
   ],
   "source": [
    "print(df.columns)"
   ]
  },
  {
   "cell_type": "code",
   "execution_count": 88,
   "id": "144be35f",
   "metadata": {},
   "outputs": [],
   "source": [
    "df.to_csv(\"data/prep_clinvar_result.csv\", index=False)"
   ]
  }
 ],
 "metadata": {
  "kernelspec": {
   "display_name": "base",
   "language": "python",
   "name": "python3"
  },
  "language_info": {
   "codemirror_mode": {
    "name": "ipython",
    "version": 3
   },
   "file_extension": ".py",
   "mimetype": "text/x-python",
   "name": "python",
   "nbconvert_exporter": "python",
   "pygments_lexer": "ipython3",
   "version": "3.12.3"
  }
 },
 "nbformat": 4,
 "nbformat_minor": 5
}
