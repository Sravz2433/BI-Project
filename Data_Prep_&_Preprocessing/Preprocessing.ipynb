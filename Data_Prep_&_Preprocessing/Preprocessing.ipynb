{
 "cells": [
  {
   "cell_type": "markdown",
   "id": "08477076",
   "metadata": {},
   "source": []
  },
  {
   "cell_type": "code",
   "execution_count": 1,
   "id": "78e852f7",
   "metadata": {},
   "outputs": [],
   "source": [
    "import pandas as pd\n",
    "import numpy as np\n",
    "from tensorflow.keras.utils import to_categorical"
   ]
  },
  {
   "cell_type": "markdown",
   "id": "390e1a5b",
   "metadata": {},
   "source": [
    "### Load tsv\n"
   ]
  },
  {
   "cell_type": "code",
   "execution_count": 2,
   "id": "88bafe90",
   "metadata": {},
   "outputs": [
    {
     "name": "stdout",
     "output_type": "stream",
     "text": [
      "Index(['chr', 'start', 'end'], dtype='object')\n"
     ]
    }
   ],
   "source": [
    "exon_file = \"mecp2_exons.tsv\"\n",
    "exon_df = pd.read_csv(exon_file, sep=\"\\t\")  # Assumes columns: seqname, start, end\n",
    "exon_df.columns = ['chr', 'start', 'end']\n",
    "print(exon_df.columns)\n"
   ]
  },
  {
   "cell_type": "code",
   "execution_count": 3,
   "id": "eb7e4e28",
   "metadata": {},
   "outputs": [
    {
     "name": "stdout",
     "output_type": "stream",
     "text": [
      "    chr      start        end\n",
      "0  chrX  154094378  154094476\n",
      "1  chrX  154092184  154092307\n",
      "2  chrX  154032207  154032557\n",
      "3  chrX  154021573  154031450\n",
      "4  chrX  154097604  154097717\n"
     ]
    }
   ],
   "source": [
    "print(exon_df.head())"
   ]
  },
  {
   "cell_type": "markdown",
   "id": "13eadcb9",
   "metadata": {},
   "source": [
    "### Splice Sites"
   ]
  },
  {
   "cell_type": "code",
   "execution_count": 4,
   "id": "27177d7c",
   "metadata": {},
   "outputs": [
    {
     "name": "stdout",
     "output_type": "stream",
     "text": [
      "Index(['chr', 'position', 'site_type'], dtype='object')\n"
     ]
    }
   ],
   "source": [
    "splice_sites = []\n",
    "for _, row in exon_df.iterrows():\n",
    "    splice_sites.append({'chr': row['chr'], 'position': row['end'], 'site_type': 'donor'})\n",
    "    splice_sites.append({'chr': row['chr'], 'position': row['start'], 'site_type': 'acceptor'})\n",
    "splice_df = pd.DataFrame(splice_sites)\n",
    "splice_positions = splice_df['position'].tolist()\n",
    "donor_positions = splice_df[splice_df['site_type'] == 'donor']['position'].tolist()\n",
    "acceptor_positions = splice_df[splice_df['site_type'] == 'acceptor']['position'].tolist()\n",
    "print(splice_df.columns)"
   ]
  },
  {
   "cell_type": "markdown",
   "id": "4b062ec9",
   "metadata": {},
   "source": [
    "### Load Variant Dataset"
   ]
  },
  {
   "cell_type": "code",
   "execution_count": 5,
   "id": "b5b2da7f",
   "metadata": {},
   "outputs": [],
   "source": [
    "file = 'data/aligned_clinvar_result.csv'\n",
    "df = pd.read_csv(file)\n",
    "\n",
    "df = df.dropna(subset=[\"position\", \"mutated_sequence\"])\n",
    "df[\"position\"] = df[\"position\"].astype(int)\n",
    "df.columns = df.columns.str.strip()\n"
   ]
  },
  {
   "cell_type": "markdown",
   "id": "6975c33c",
   "metadata": {},
   "source": [
    " ### Region Annotation "
   ]
  },
  {
   "cell_type": "code",
   "execution_count": 6,
   "id": "da79f0a1",
   "metadata": {},
   "outputs": [],
   "source": [
    "def get_region(pos):\n",
    "    for _, row in exon_df.iterrows():\n",
    "        if row['start'] <= pos <= row['end']:\n",
    "            return 'exon'\n",
    "    return 'non-exon'\n",
    "\n",
    "df['region'] = df['position'].apply(get_region)"
   ]
  },
  {
   "cell_type": "markdown",
   "id": "f1c405f0",
   "metadata": {},
   "source": [
    "### Splice Distance"
   ]
  },
  {
   "cell_type": "code",
   "execution_count": 7,
   "id": "5233760f",
   "metadata": {},
   "outputs": [],
   "source": [
    "def nearest_distance(pos, positions):\n",
    "    return min([abs(pos - sp) for sp in positions]) if positions else np.nan\n",
    "\n",
    "df['donor_distance'] = df['position'].apply(lambda pos: nearest_distance(pos, donor_positions))\n",
    "df['acceptor_distance'] = df['position'].apply(lambda pos: nearest_distance(pos, acceptor_positions))\n"
   ]
  },
  {
   "cell_type": "code",
   "execution_count": 8,
   "id": "96052e49",
   "metadata": {},
   "outputs": [
    {
     "name": "stdout",
     "output_type": "stream",
     "text": [
      "Index(['Name', 'Gene(s)', 'Protein change', 'Condition(s)', 'Accession',\n",
      "       'GRCh37Chromosome', 'GRCh37Location', 'GRCh38Chromosome',\n",
      "       'GRCh38Location', 'VariationID', 'AlleleID(s)', 'dbSNP ID',\n",
      "       'Canonical SPDI', 'Variant type', 'Molecular consequence',\n",
      "       'Germline classification', 'Germline date last evaluated',\n",
      "       'Germline review status', 'Somatic clinical impact',\n",
      "       'Somatic clinical impact date last evaluated',\n",
      "       'Somatic clinical impact review status', 'Oncogenicity classification',\n",
      "       'Oncogenicity date last evaluated', 'Oncogenicity review status',\n",
      "       'Unnamed: 24', 'Sequence_ID', 'position', 'Deleted_Sequence',\n",
      "       'Inserted_Sequence', 'sequence_window', 'mutated_sequence',\n",
      "       'prev_position_allele', 'next_position_allele', 'aligned_ref',\n",
      "       'aligned_alt', 'alignment_score', 'mc_synonymous_variant',\n",
      "       'mc_frameshift_variant', 'mc_3_prime_UTR_variant',\n",
      "       'mc_5_prime_UTR_variant', 'mc_splice_donor_variant',\n",
      "       'mc_splice_acceptor_variant', 'mc_nonsense', 'mc_intron_variant',\n",
      "       'mc_missense_variant', 'mc_stop_lost', 'region', 'donor_distance',\n",
      "       'acceptor_distance'],\n",
      "      dtype='object')\n",
      "                               Name Gene(s) Protein change  \\\n",
      "0  NM_001110792.2(MECP2):c.*8503dup   MECP2            NaN   \n",
      "1  NM_001110792.2(MECP2):c.*8503del   MECP2            NaN   \n",
      "2  NM_001110792.2(MECP2):c.*7856A>C   MECP2            NaN   \n",
      "3  NM_001110792.2(MECP2):c.*7748C>T   MECP2            NaN   \n",
      "4  NM_001110792.2(MECP2):c.*5839C>T   MECP2            NaN   \n",
      "\n",
      "                 Condition(s)     Accession GRCh37Chromosome  \\\n",
      "0               Rett syndrome  VCV000143289                X   \n",
      "1               Rett syndrome  VCV000143288                X   \n",
      "2  not provided|Rett syndrome  VCV000143283                X   \n",
      "3               Rett syndrome  VCV000143282                X   \n",
      "4               Rett syndrome  VCV000143280                X   \n",
      "\n",
      "          GRCh37Location GRCh38Chromosome         GRCh38Location  VariationID  \\\n",
      "0  153287314 - 153287315                X  154021863 - 154021864       143289   \n",
      "1              153287315                X              154021864       143288   \n",
      "2              153287962                X              154022511       143283   \n",
      "3              153288070                X              154022619       143282   \n",
      "4              153289979                X              154024528       143280   \n",
      "\n",
      "   ...  mc_5_prime_UTR_variant mc_splice_donor_variant  \\\n",
      "0  ...                       0                       0   \n",
      "1  ...                       0                       0   \n",
      "2  ...                       0                       0   \n",
      "3  ...                       0                       0   \n",
      "4  ...                       0                       0   \n",
      "\n",
      "  mc_splice_acceptor_variant mc_nonsense mc_intron_variant  \\\n",
      "0                          0           0                 0   \n",
      "1                          0           0                 0   \n",
      "2                          0           0                 0   \n",
      "3                          0           0                 0   \n",
      "4                          0           0                 0   \n",
      "\n",
      "  mc_missense_variant mc_stop_lost region  donor_distance  acceptor_distance  \n",
      "0                   0            0   exon            9073                290  \n",
      "1                   0            0   exon            9073                290  \n",
      "2                   0            0   exon            8426                937  \n",
      "3                   0            0   exon            8318               1045  \n",
      "4                   0            0   exon            6409               2954  \n",
      "\n",
      "[5 rows x 49 columns]\n"
     ]
    }
   ],
   "source": [
    "print(df.columns)\n",
    "print(df.head())"
   ]
  },
  {
   "cell_type": "markdown",
   "id": "a5c44fa1",
   "metadata": {},
   "source": [
    "Calculate Distance to Exon Boundaries"
   ]
  },
  {
   "cell_type": "code",
   "execution_count": 9,
   "id": "6abf11ce",
   "metadata": {},
   "outputs": [],
   "source": [
    "def exon_distances(pos):\n",
    "    for _, row in exon_df.iterrows():\n",
    "        if row['start'] <= pos <= row['end']:\n",
    "            return (abs(pos - row['start']), abs(pos - row['end']))\n",
    "    return (np.nan, np.nan)\n",
    "df[['dist_to_exon_start', 'dist_to_exon_end']] = df['position'].apply(lambda pos: pd.Series(exon_distances(pos)))\n"
   ]
  },
  {
   "cell_type": "markdown",
   "id": "5e00b55c",
   "metadata": {},
   "source": [
    "Nearest Splice Site Type (Donor/Acceptor)"
   ]
  },
  {
   "cell_type": "code",
   "execution_count": 10,
   "id": "9a083c26",
   "metadata": {},
   "outputs": [],
   "source": [
    "def nearest_splice_type(pos):\n",
    "    nearest_donor = nearest_distance(pos, donor_positions)\n",
    "    nearest_acceptor = nearest_distance(pos, acceptor_positions)\n",
    "    if nearest_donor <= nearest_acceptor:\n",
    "        return 'donor'\n",
    "    else:\n",
    "        return 'acceptor'\n",
    "df['nearest_splice_type'] = df['position'].apply(nearest_splice_type)\n"
   ]
  },
  {
   "cell_type": "markdown",
   "id": "e3189be7",
   "metadata": {},
   "source": [
    "### Sequence Padding"
   ]
  },
  {
   "cell_type": "code",
   "execution_count": 11,
   "id": "0806b7b0",
   "metadata": {},
   "outputs": [],
   "source": [
    "DESIRED_LENGTH = 101\n",
    "def fix_length(seq, desired_len=DESIRED_LENGTH):\n",
    "    seq = seq.upper()\n",
    "    return seq[:desired_len] if len(seq) >= desired_len else seq + 'N' * (desired_len - len(seq))\n",
    "\n",
    "df['mutated_sequence_fixed'] = df['mutated_sequence'].apply(fix_length)\n"
   ]
  },
  {
   "cell_type": "code",
   "execution_count": 12,
   "id": "1c2575a9",
   "metadata": {},
   "outputs": [],
   "source": [
    "if 'sequence_window' in df.columns:\n",
    "    df['sequence_window_fixed'] = df['sequence_window'].apply(fix_length)\n",
    "else:\n",
    "    print(\"⚠️ Warning: 'sequence_window' column not found in the dataset!\")\n"
   ]
  },
  {
   "cell_type": "markdown",
   "id": "9a332ef6",
   "metadata": {},
   "source": [
    "### One-Hot Encoding"
   ]
  },
  {
   "cell_type": "code",
   "execution_count": 13,
   "id": "2be558b0",
   "metadata": {},
   "outputs": [],
   "source": [
    "base_map = {'A': 0, 'C': 1, 'G': 2, 'T': 3, 'N': 4}\n",
    "NUM_BASES = len(base_map)\n",
    "\n",
    "def one_hot_encode(seq):\n",
    "    encoded = [base_map.get(base, 4) for base in seq]\n",
    "    return to_categorical(encoded, num_classes=NUM_BASES)\n",
    "\n",
    "# Apply to fixed-length sequences\n",
    "encoded_sequences = np.array(\n",
    "    df['mutated_sequence_fixed'].apply(one_hot_encode).tolist()\n",
    ")\n"
   ]
  },
  {
   "cell_type": "code",
   "execution_count": 14,
   "id": "f97fe401",
   "metadata": {},
   "outputs": [
    {
     "data": {
      "text/plain": [
       "(1215, 101, 5)"
      ]
     },
     "execution_count": 14,
     "metadata": {},
     "output_type": "execute_result"
    }
   ],
   "source": [
    "encoded_sequences.shape\n"
   ]
  },
  {
   "cell_type": "markdown",
   "id": "fd6164af",
   "metadata": {},
   "source": [
    "### Multi-label Targets"
   ]
  },
  {
   "cell_type": "code",
   "execution_count": 15,
   "id": "5cef4211",
   "metadata": {},
   "outputs": [],
   "source": [
    "label_cols = [col for col in df.columns if col.startswith('mc_')]\n",
    "\n",
    "# Make sure they’re all integers (0/1)\n",
    "df[label_cols] = df[label_cols].fillna(0).astype(int)\n",
    "\n",
    "# Final label matrix\n",
    "Y = df[label_cols].values\n"
   ]
  },
  {
   "cell_type": "markdown",
   "id": "a955ad73",
   "metadata": {},
   "source": [
    "### Binary Label Mapping"
   ]
  },
  {
   "cell_type": "code",
   "execution_count": 16,
   "id": "61e4c9a2",
   "metadata": {},
   "outputs": [
    {
     "data": {
      "text/plain": [
       "array(['Benign', 'Likely benign', 'Benign/Likely benign',\n",
       "       'Likely pathogenic', 'Pathogenic', 'Pathogenic/Likely pathogenic'],\n",
       "      dtype=object)"
      ]
     },
     "execution_count": 16,
     "metadata": {},
     "output_type": "execute_result"
    }
   ],
   "source": [
    "df['Germline classification'].unique()\n"
   ]
  },
  {
   "cell_type": "code",
   "execution_count": 17,
   "id": "e490aa74",
   "metadata": {},
   "outputs": [
    {
     "name": "stdout",
     "output_type": "stream",
     "text": [
      "                               Name Gene(s) Protein change  \\\n",
      "0  NM_001110792.2(MECP2):c.*8503dup   MECP2            NaN   \n",
      "1  NM_001110792.2(MECP2):c.*8503del   MECP2            NaN   \n",
      "2  NM_001110792.2(MECP2):c.*7856A>C   MECP2            NaN   \n",
      "3  NM_001110792.2(MECP2):c.*7748C>T   MECP2            NaN   \n",
      "4  NM_001110792.2(MECP2):c.*5839C>T   MECP2            NaN   \n",
      "\n",
      "                 Condition(s)     Accession GRCh37Chromosome  \\\n",
      "0               Rett syndrome  VCV000143289                X   \n",
      "1               Rett syndrome  VCV000143288                X   \n",
      "2  not provided|Rett syndrome  VCV000143283                X   \n",
      "3               Rett syndrome  VCV000143282                X   \n",
      "4               Rett syndrome  VCV000143280                X   \n",
      "\n",
      "          GRCh37Location GRCh38Chromosome         GRCh38Location  VariationID  \\\n",
      "0  153287314 - 153287315                X  154021863 - 154021864       143289   \n",
      "1              153287315                X              154021864       143288   \n",
      "2              153287962                X              154022511       143283   \n",
      "3              153288070                X              154022619       143282   \n",
      "4              153289979                X              154024528       143280   \n",
      "\n",
      "   ...  mc_stop_lost region donor_distance acceptor_distance  \\\n",
      "0  ...             0   exon           9073               290   \n",
      "1  ...             0   exon           9073               290   \n",
      "2  ...             0   exon           8426               937   \n",
      "3  ...             0   exon           8318              1045   \n",
      "4  ...             0   exon           6409              2954   \n",
      "\n",
      "  dist_to_exon_start dist_to_exon_end nearest_splice_type  \\\n",
      "0              290.0           9587.0            acceptor   \n",
      "1              290.0           9587.0            acceptor   \n",
      "2              937.0           8940.0            acceptor   \n",
      "3             1045.0           8832.0            acceptor   \n",
      "4             2954.0           6923.0            acceptor   \n",
      "\n",
      "                              mutated_sequence_fixed  \\\n",
      "0  AAATTTATAAGGCAAACTCTTTATATAATAAATAGGTTACAGGGAT...   \n",
      "1  AAATTTATAAGGCAAACTCTTTATATAATAAATAGGTTACAGGGAT...   \n",
      "2  AGATGTTTTCGCCATGGAATGGGAAGGGGTTTTCTCACATCTAAGT...   \n",
      "3  CTGGGAAGGGGAGGGTGGGGAATAGAGATGTCACAGTGTTGAGCCC...   \n",
      "4  GACTCCAGCTCCCAGAGGTGGAAGGCGACCAGGCTGTGCCGACTAC...   \n",
      "\n",
      "                               sequence_window_fixed  label  \n",
      "0  AAATTTATAAGGCAAACTCTTTATATAATAAATAGGTTACAGGGAT...      0  \n",
      "1  AAATTTATAAGGCAAACTCTTTATATAATAAATAGGTTACAGGGAT...      0  \n",
      "2  AGATGTTTTCGCCATGGAATGGGAAGGGGTTTTCTCACATCTAAGT...      0  \n",
      "3  CTGGGAAGGGGAGGGTGGGGAATAGAGATGTCACAGTGTTGAGCCC...      0  \n",
      "4  GACTCCAGCTCCCAGAGGTGGAAGGCGACCAGGCTGTGCCGACTAC...      0  \n",
      "\n",
      "[5 rows x 54 columns]\n"
     ]
    }
   ],
   "source": [
    "label_mapping = {\n",
    "    \"Pathogenic\": 1, \n",
    "    \"Likely pathogenic\": 1,\n",
    "    \"Pathogenic/Likely pathogenic\": 1,\n",
    "    \"Benign\": 0, \n",
    "    \"Likely benign\": 0,\n",
    "    \"Benign/Likely benign\": 0\n",
    "}\n",
    "\n",
    "df[\"label\"] = df[\"Germline classification\"].map(label_mapping).fillna(-1)  \n",
    "\n",
    "df_variants = df[df[\"label\"] != -1].copy()\n",
    "\n",
    "df_variants.drop(columns=['Germline classification'], inplace=True)\n",
    "\n",
    "# Display first few rows\n",
    "print(df_variants.head())\n"
   ]
  },
  {
   "cell_type": "code",
   "execution_count": 18,
   "id": "67918bff",
   "metadata": {},
   "outputs": [
    {
     "name": "stdout",
     "output_type": "stream",
     "text": [
      "Index(['Name', 'Gene(s)', 'Protein change', 'Condition(s)', 'Accession',\n",
      "       'GRCh37Chromosome', 'GRCh37Location', 'GRCh38Chromosome',\n",
      "       'GRCh38Location', 'VariationID', 'AlleleID(s)', 'dbSNP ID',\n",
      "       'Canonical SPDI', 'Variant type', 'Molecular consequence',\n",
      "       'Germline classification', 'Germline date last evaluated',\n",
      "       'Germline review status', 'Somatic clinical impact',\n",
      "       'Somatic clinical impact date last evaluated',\n",
      "       'Somatic clinical impact review status', 'Oncogenicity classification',\n",
      "       'Oncogenicity date last evaluated', 'Oncogenicity review status',\n",
      "       'Unnamed: 24', 'Sequence_ID', 'position', 'Deleted_Sequence',\n",
      "       'Inserted_Sequence', 'sequence_window', 'mutated_sequence',\n",
      "       'prev_position_allele', 'next_position_allele', 'aligned_ref',\n",
      "       'aligned_alt', 'alignment_score', 'mc_synonymous_variant',\n",
      "       'mc_frameshift_variant', 'mc_3_prime_UTR_variant',\n",
      "       'mc_5_prime_UTR_variant', 'mc_splice_donor_variant',\n",
      "       'mc_splice_acceptor_variant', 'mc_nonsense', 'mc_intron_variant',\n",
      "       'mc_missense_variant', 'mc_stop_lost', 'region', 'donor_distance',\n",
      "       'acceptor_distance', 'dist_to_exon_start', 'dist_to_exon_end',\n",
      "       'nearest_splice_type', 'mutated_sequence_fixed',\n",
      "       'sequence_window_fixed', 'label'],\n",
      "      dtype='object')\n"
     ]
    }
   ],
   "source": [
    "print(df.columns)"
   ]
  },
  {
   "cell_type": "markdown",
   "id": "9e24e882",
   "metadata": {},
   "source": [
    "### Save Final Preprocessed Data"
   ]
  },
  {
   "cell_type": "code",
   "execution_count": 19,
   "id": "144be35f",
   "metadata": {},
   "outputs": [
    {
     "name": "stdout",
     "output_type": "stream",
     "text": [
      "✅ Preprocessing complete. Saved to data/prep_clinvar_result.csv\n"
     ]
    }
   ],
   "source": [
    "df.to_csv(\"data/prep_clinvar_result.csv\", index=False)\n",
    "print(\"✅ Preprocessing complete. Saved to data/prep_clinvar_result.csv\")"
   ]
  }
 ],
 "metadata": {
  "kernelspec": {
   "display_name": "base",
   "language": "python",
   "name": "python3"
  },
  "language_info": {
   "codemirror_mode": {
    "name": "ipython",
    "version": 3
   },
   "file_extension": ".py",
   "mimetype": "text/x-python",
   "name": "python",
   "nbconvert_exporter": "python",
   "pygments_lexer": "ipython3",
   "version": "3.12.3"
  }
 },
 "nbformat": 4,
 "nbformat_minor": 5
}
