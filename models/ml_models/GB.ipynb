{
 "cells": [
  {
   "cell_type": "code",
   "execution_count": 1,
   "id": "49013457",
   "metadata": {},
   "outputs": [],
   "source": [
    "import pandas as pd\n",
    "from sklearn.ensemble import GradientBoostingClassifier\n",
    "from sklearn.metrics import accuracy_score, classification_report, confusion_matrix\n",
    "import joblib  # To save the model\n",
    "\n",
    "# Load the dataset (if not already in memory)\n",
    "file_path = \"data/featured_clinvar_result.csv\"\n",
    "df = pd.read_csv(file_path)\n",
    "\n",
    "# Define features (X) and target (y)\n",
    "X = df.drop(columns=[\"label\"])\n",
    "y = df[\"label\"]"
   ]
  },
  {
   "cell_type": "code",
   "execution_count": 2,
   "id": "f6cb9235",
   "metadata": {},
   "outputs": [
    {
     "name": "stdout",
     "output_type": "stream",
     "text": [
      "✅ Train-Test Split Done: 972 Train Samples, 243 Test Samples\n"
     ]
    }
   ],
   "source": [
    "from sklearn.model_selection import train_test_split\n",
    "\n",
    "# Split data (80% training, 20% testing)\n",
    "X_train, X_test, y_train, y_test = train_test_split(X, y, test_size=0.2, random_state=42, stratify=y)\n",
    "\n",
    "print(f\"✅ Train-Test Split Done: {X_train.shape[0]} Train Samples, {X_test.shape[0]} Test Samples\")\n"
   ]
  },
  {
   "cell_type": "code",
   "execution_count": 3,
   "id": "3264e5fb",
   "metadata": {},
   "outputs": [
    {
     "name": "stdout",
     "output_type": "stream",
     "text": [
      "✅ Gradient Boosting Model Trained Successfully!\n",
      "Gradient Boosting Training Time: 0.4257 seconds\n"
     ]
    }
   ],
   "source": [
    "# Define Random Forest Classifier\n",
    "import time\n",
    "gb_model = GradientBoostingClassifier(random_state=42)\n",
    "start_time = time.time()\n",
    "gb_model.fit(X_train, y_train)\n",
    "rf_training_time = time.time() - start_time\n",
    "print(\"✅ Gradient Boosting Model Trained Successfully!\")\n",
    "print(f\"Gradient Boosting Training Time: {rf_training_time:.4f} seconds\")"
   ]
  },
  {
   "cell_type": "code",
   "execution_count": 4,
   "id": "0d47e399",
   "metadata": {},
   "outputs": [
    {
     "name": "stdout",
     "output_type": "stream",
     "text": [
      "✅ Random Forest Accuracy: 0.9712\n",
      "\n",
      "🔍 Classification Report:\n",
      "              precision    recall  f1-score   support\n",
      "\n",
      "           0       0.97      0.98      0.97       126\n",
      "           1       0.97      0.97      0.97       117\n",
      "\n",
      "    accuracy                           0.97       243\n",
      "   macro avg       0.97      0.97      0.97       243\n",
      "weighted avg       0.97      0.97      0.97       243\n",
      "\n",
      "\n",
      "🔍 Confusion Matrix:\n",
      "[[123   3]\n",
      " [  4 113]]\n",
      "Random Forest Inference Time: 0.0074 seconds\n"
     ]
    }
   ],
   "source": [
    "# Make predictions\n",
    "start_time = time.time()\n",
    "gb_preds = gb_model.predict(X_test)\n",
    "rf_inference_time = time.time() - start_time\n",
    "# Calculate accuracy\n",
    "accuracy = accuracy_score(y_test, gb_preds)\n",
    "print(f\"✅ Random Forest Accuracy: {accuracy:.4f}\")\n",
    "\n",
    "# Classification Report\n",
    "print(\"\\n🔍 Classification Report:\")\n",
    "print(classification_report(y_test, gb_preds))\n",
    "\n",
    "# Confusion Matrix\n",
    "print(\"\\n🔍 Confusion Matrix:\")\n",
    "print(confusion_matrix(y_test, gb_preds))\n",
    "print(f\"Random Forest Inference Time: {rf_inference_time:.4f} seconds\")"
   ]
  },
  {
   "cell_type": "code",
   "execution_count": null,
   "id": "c7628fcd",
   "metadata": {},
   "outputs": [],
   "source": [
    "gb_model = GradientBoostingClassifier(random_state=42)\n",
    "gb_model.fit(X_train, y_train)\n",
    "gb_preds = gb_model.predict(X_test)"
   ]
  }
 ],
 "metadata": {
  "kernelspec": {
   "display_name": "base",
   "language": "python",
   "name": "python3"
  },
  "language_info": {
   "codemirror_mode": {
    "name": "ipython",
    "version": 3
   },
   "file_extension": ".py",
   "mimetype": "text/x-python",
   "name": "python",
   "nbconvert_exporter": "python",
   "pygments_lexer": "ipython3",
   "version": "3.12.3"
  }
 },
 "nbformat": 4,
 "nbformat_minor": 5
}
